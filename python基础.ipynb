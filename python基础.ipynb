{
 "cells": [
  {
   "cell_type": "markdown",
   "metadata": {},
   "source": [
    "### 1. sort() 和 sorted() 的区别\n",
    "\n",
    "\n",
    " **1. `sort()`：列表的原地排序方法**\n",
    "- **定义**：`sort()` 是列表对象的方法，**直接修改原列表**，无返回值（返回 `None`）。\n",
    "- **语法**：\n",
    "  ```python\n",
    "  list.sort(key=None, reverse=False)\n",
    "  ```\n",
    "- **特点**：\n",
    "  - **原地修改**：原列表被排序，不生成新列表。\n",
    "  - **仅限列表**：只能对列表使用，不可用于其他可迭代对象（如元组、字符串等）。\n",
    "  - **无返回值**：不能将结果赋值给变量。\n",
    "  \n",
    "\n",
    "\n",
    " **2. `sorted()`：通用的排序函数**\n",
    "- **定义**：`sorted()` 是内置函数，**返回一个新的排序后的列表**，原数据保持不变。\n",
    "- **语法**：\n",
    "  ```python\n",
    "  sorted(iterable, key=None, reverse=False)\n",
    "  ```\n",
    "- **特点**：\n",
    "  - **生成新对象**：原数据不受影响，返回排序后的新列表。\n",
    "  - **支持所有可迭代对象**：可对列表、元组、字符串、字典的键等排序。\n",
    "  - **可赋值给变量**：结果可直接用于后续操作。\n",
    "  \n",
    "\n",
    " **3. 关键区别总结**\n",
    "| **特性**         | `list.sort()`                          | `sorted()`                              |\n",
    "|------------------|----------------------------------------|-----------------------------------------|\n",
    "| **操作对象**     | 仅限列表                               | 任意可迭代对象（列表、元组、字符串等）  |\n",
    "| **返回值**       | `None`（原列表被修改）                | 返回新列表（原数据不变）                |\n",
    "| **内存占用**     | 低（直接修改原列表）                  | 高（生成新对象）                        |\n",
    "| **适用场景**     | 不需要保留原列表时                   | 需要保留原数据时                        |\n",
    "\n",
    "---\n",
    "\n",
    "\n"
   ]
  },
  {
   "cell_type": "code",
   "execution_count": 3,
   "metadata": {},
   "outputs": [
    {
     "name": "stdout",
     "output_type": "stream",
     "text": [
      "['date', 'apple', 'banana', 'cherry']\n",
      "[5, 4, 3, 1, 1]\n"
     ]
    }
   ],
   "source": [
    "# 按字符串长度排序\n",
    "words = [\"apple\", \"banana\", \"cherry\", \"date\"]\n",
    "words.sort(key=lambda x: len(x))          # 原地排序\n",
    "sorted_words = sorted(words, key=lambda x: len(x))  # 生成新列表\n",
    "print(sorted_words)\n",
    "# 逆序排序\n",
    "nums = [3, 1, 4, 1, 5]\n",
    "nums.sort(reverse=True)                   # 原地逆序\n",
    "sorted_nums = sorted(nums, reverse=True)  # 生成逆序新列表\n",
    "print(sorted_nums)"
   ]
  },
  {
   "cell_type": "markdown",
   "metadata": {},
   "source": [
    "### 2. 列表去重\n",
    "- from collections import Counter\n",
    "Counter 统计列表中的重复元素出现个数"
   ]
  },
  {
   "cell_type": "code",
   "execution_count": null,
   "metadata": {},
   "outputs": [
    {
     "data": {
      "text/plain": [
       "Counter({3: 3, 2: 2, 1: 1})"
      ]
     },
     "execution_count": 2,
     "metadata": {},
     "output_type": "execute_result"
    }
   ],
   "source": [
    "from collections import Counter\n",
    "nums = [1, 2, 2, 3, 3, 3]\n",
    "freq = Counter(nums)\n",
    "freq"
   ]
  },
  {
   "cell_type": "code",
   "execution_count": 3,
   "metadata": {},
   "outputs": [
    {
     "name": "stdout",
     "output_type": "stream",
     "text": [
      "[(3, 3), (2, 2)]\n"
     ]
    }
   ],
   "source": [
    "# 获取频率最高的前2个元素\n",
    "top_elements = freq.most_common(2)\n",
    "print(top_elements)  # 输出 [(3, 3), (2, 2)]"
   ]
  },
  {
   "cell_type": "code",
   "execution_count": null,
   "metadata": {},
   "outputs": [
    {
     "name": "stdout",
     "output_type": "stream",
     "text": [
      "0\n"
     ]
    }
   ],
   "source": [
    "# 安全访问不存在的键 dict.get(key, default=None)\n",
    "# key：要查找的键。\n",
    "# default（可选参数）：当键不存在时返回的值，默认是 None。\n",
    "value = freq.get(4, 0)  # 返回 0\n",
    "print(value)  # 输出 0"
   ]
  },
  {
   "cell_type": "markdown",
   "metadata": {},
   "source": [
    "### 3. 一行代码实现1-100的和"
   ]
  },
  {
   "cell_type": "code",
   "execution_count": 1,
   "metadata": {},
   "outputs": [
    {
     "data": {
      "text/plain": [
       "5050"
      ]
     },
     "execution_count": 1,
     "metadata": {},
     "output_type": "execute_result"
    }
   ],
   "source": [
    "ans = sum(range(0,101))\n",
    "ans"
   ]
  },
  {
   "cell_type": "markdown",
   "metadata": {},
   "source": [
    "### 4. 可变类型和不可变类型\n",
    "- 可变类型： list,dict, set    `对象的值可直接修改，内存地址不变`\n",
    "- 不可变类型：string , number , tuple, frozenset  `对象一旦创建，值不可修改。修改操作实际会创建一个新对象`"
   ]
  },
  {
   "cell_type": "markdown",
   "metadata": {},
   "source": [
    "### 5. is 和 == 的区别"
   ]
  },
  {
   "cell_type": "code",
   "execution_count": 8,
   "metadata": {},
   "outputs": [
    {
     "name": "stdout",
     "output_type": "stream",
     "text": [
      "True\n",
      "True\n"
     ]
    }
   ],
   "source": [
    "#  == 检查两个对象的值是否相等（内容是否相同）。\n",
    "a = [1, 2, 3]\n",
    "b = [1, 2, 3]\n",
    "print(a == b)  # True（内容相同）\n",
    "\n",
    "x = 5\n",
    "y = 5.0\n",
    "print(x == y)  # True（值相等，类型不同不影响）"
   ]
  },
  {
   "cell_type": "code",
   "execution_count": 9,
   "metadata": {},
   "outputs": [
    {
     "name": "stdout",
     "output_type": "stream",
     "text": [
      "True\n",
      "True\n"
     ]
    }
   ],
   "source": [
    "# is 检查两个变量是否引用同一个对象（内存地址是否相同）。直接比较对象的内存地址。\n",
    "# 验证可变对象是否指向同一实例（如列表、字典）\n",
    "a = [1, 2, 3]\n",
    "b = a\n",
    "print(a is b)  # True（同一对象）\n",
    "\n",
    "c = None\n",
    "print(c is None)  # True（单例对象）"
   ]
  },
  {
   "cell_type": "markdown",
   "metadata": {},
   "source": [
    "### 6. 求出列表所有奇数并构建新的列表"
   ]
  },
  {
   "cell_type": "code",
   "execution_count": null,
   "metadata": {},
   "outputs": [
    {
     "data": {
      "text/plain": [
       "[1, 3, 5, 7]"
      ]
     },
     "execution_count": 4,
     "metadata": {},
     "output_type": "execute_result"
    }
   ],
   "source": [
    "nums = [1,2,3,4,5,6,7,8]\n",
    "# 列表生成式\n",
    "ans = [ i for i in nums if i % 2 !=0 ]\n",
    "ans"
   ]
  },
  {
   "cell_type": "code",
   "execution_count": 6,
   "metadata": {},
   "outputs": [
    {
     "data": {
      "text/plain": [
       "{'zwda': 21, 'ttta': 2}"
      ]
     },
     "execution_count": 6,
     "metadata": {},
     "output_type": "execute_result"
    }
   ],
   "source": [
    "# 字典生成式\n",
    "dict1 = {k+'a':v for k,v in {'zwd':21 , 'ttt': 2}.items()}\n",
    "dict1"
   ]
  },
  {
   "cell_type": "markdown",
   "metadata": {},
   "source": [
    "### 7. 字符串'123'转化为123，不使用int"
   ]
  },
  {
   "cell_type": "code",
   "execution_count": 3,
   "metadata": {},
   "outputs": [
    {
     "data": {
      "text/plain": [
       "123"
      ]
     },
     "execution_count": 3,
     "metadata": {},
     "output_type": "execute_result"
    }
   ],
   "source": [
    "s = '123'\n",
    "ans = 0 \n",
    "for i in range(len(s)):\n",
    "    ans = ans*10 + ord(s[i]) - ord('0')\n",
    "ans"
   ]
  },
  {
   "cell_type": "markdown",
   "metadata": {},
   "source": [
    "### 8. python 作用域问题\n",
    "\n",
    "\n",
    "1. 局部作用域（Local）\n",
    "\n",
    "2. 闭包作用域（Enclosing）\n",
    "\n",
    "3. 全局作用域（Global）\n",
    "\n",
    "4. 内置作用域（Built-in）"
   ]
  },
  {
   "cell_type": "code",
   "execution_count": 4,
   "metadata": {},
   "outputs": [
    {
     "name": "stdout",
     "output_type": "stream",
     "text": [
      "10\n",
      "10\n"
     ]
    }
   ],
   "source": [
    "# 局部作用域（Local） 在函数或方法内部定义的变量。\n",
    "# 仅在函数内部有效，函数执行结束后销毁\n",
    "def my_func():\n",
    "    x = 10  # 局部变量\n",
    "    print(x)\n",
    "my_func()  # 输出 10\n",
    "print(x)    # 报错：NameError（x不存在于全局作用域）"
   ]
  },
  {
   "cell_type": "code",
   "execution_count": 5,
   "metadata": {},
   "outputs": [
    {
     "name": "stdout",
     "output_type": "stream",
     "text": [
      "20\n"
     ]
    }
   ],
   "source": [
    "# 全局作用域（Global）在模块（文件）顶层定义的变量，或在函数内通过 global 关键字声明的变量。\n",
    "# 整个模块内有效，可被模块内所有函数访问。\n",
    "y = 20  # 全局变量\n",
    "def my_func():\n",
    "    print(y)  # 读取全局变量\n",
    "my_func()  # 输出 20"
   ]
  },
  {
   "cell_type": "code",
   "execution_count": 6,
   "metadata": {},
   "outputs": [
    {
     "name": "stdout",
     "output_type": "stream",
     "text": [
      "3\n"
     ]
    }
   ],
   "source": [
    "# 内置作用域（Built-in）Python内置的变量和函数（如 print, len, int 等）。\n",
    "# 无需定义即可直接使用，优先级最低。\n",
    "def my_func():\n",
    "    print(len([1, 2, 3]))  # 使用内置函数`len`\n",
    "my_func()  # 输出 3"
   ]
  },
  {
   "cell_type": "code",
   "execution_count": 7,
   "metadata": {},
   "outputs": [
    {
     "name": "stdout",
     "output_type": "stream",
     "text": [
      "30\n"
     ]
    }
   ],
   "source": [
    "# 闭包作用域（Enclosing Scope）在嵌套函数中，外层函数的作用域（非全局）。\n",
    "# 内层函数可以访问外层函数的变量，但需通过 nonlocal 关键字修改\n",
    "def outer():\n",
    "    z = 30  # 闭包作用域变量\n",
    "    def inner():\n",
    "        print(z)  # 内层函数访问外层变量\n",
    "    inner()\n",
    "outer()  # 输出 30"
   ]
  },
  {
   "cell_type": "markdown",
   "metadata": {},
   "source": [
    "- 对于不可变数据类型（如整数、字符串、元组等），若要在函数内部修改其全局变量的值（即重新赋值），必须使用 global 关键字声明。\n",
    "- 这是因为不可变对象的值无法原地修改，任何“修改”操作本质上是创建一个新对象并重新绑定变量名。\n",
    "- 如果不使用 global，Python 会默认创建一个局部变量，而非操作全局变量。"
   ]
  },
  {
   "cell_type": "code",
   "execution_count": null,
   "metadata": {},
   "outputs": [
    {
     "name": "stdout",
     "output_type": "stream",
     "text": [
      "5\n"
     ]
    }
   ],
   "source": [
    "# 如果函数内部只是读取变量的值，而没有对该变量进行赋值或修改，Python会自动将其视为全局变量。此时无需使用global关键字。\n",
    "x = 5\n",
    "def func():\n",
    "    print(x)  # 直接读取全局变量x\n",
    "func()  # 输出5"
   ]
  },
  {
   "cell_type": "code",
   "execution_count": 2,
   "metadata": {},
   "outputs": [
    {
     "name": "stdout",
     "output_type": "stream",
     "text": [
      "10\n"
     ]
    }
   ],
   "source": [
    "# 如果函数内部需要修改全局变量，必须使用global关键字明确声明该变量为全局变量。此时所有操作会直接作用于全局变量。\n",
    "x = 5\n",
    "def func():\n",
    "    global x\n",
    "    x = 10  # 修改全局变量x\n",
    "func()\n",
    "print(x)  # 输出10"
   ]
  },
  {
   "cell_type": "code",
   "execution_count": null,
   "metadata": {},
   "outputs": [],
   "source": [
    "# 赋值操作会默认创建局部变量\n",
    "x = 5\n",
    "def func(flag):\n",
    "    if flag:\n",
    "        x = 10  # 即使flag为False，x仍被视为局部变量\n",
    "    print(x)     # 当flag为False时，报UnboundLocalError"
   ]
  },
  {
   "cell_type": "markdown",
   "metadata": {},
   "source": [
    "- 变量在 if __name__ == '__main__': 代码块中定义时，其作用域属于全局作用域（即模块级别作用域）\n",
    "- 在Python中，列表（list）是可变对象，函数内部可以直接修改其元素而无需使用 global 关键字"
   ]
  },
  {
   "cell_type": "code",
   "execution_count": 3,
   "metadata": {},
   "outputs": [
    {
     "data": {
      "text/plain": [
       "[0, 1, 2, 3, 4, 5, 6, 7, 8, 9]"
      ]
     },
     "execution_count": 3,
     "metadata": {},
     "output_type": "execute_result"
    }
   ],
   "source": [
    "a = [0]*10\n",
    "def func():\n",
    "    for i in range(10):\n",
    "        a[i] = i\n",
    "func()\n",
    "a"
   ]
  },
  {
   "cell_type": "markdown",
   "metadata": {},
   "source": [
    "### 9.[[-1] * m] * n 和  [[-1 for j in range(m)] for i in range(n)] 的区别\n",
    "\n",
    "- [[-1] * m] * n ：\n",
    "\n",
    "**引用共享：**\n",
    "使用 * 操作符时，外层列表的每一行实际上是同一个列表的引用。所有行指向同一块内存空间。\n",
    "\n",
    "**修改的副作用：**\n",
    "修改任意一行的元素，其他所有行的对应位置也会被同步修改（因为它们共享同一个子列表）。\n",
    "\n",
    "Python中 [[-1]*m]*n 会创建 n个指向同一个子列表的引用。修改任意一行会影响所有行。\n",
    "\n",
    "例如，当 d[0][0] = 1 时，所有行的第0列都会变成1，导致距离计算完全错误。\n",
    "\n",
    "\n",
    "- [[-1 for j in range(m)] for i in range(n)] \n",
    "\n",
    "**独立子列表：**\n",
    "列表推导式在每次迭代时会创建新的列表对象，每一行都是独立的内存空间。\n",
    "\n",
    "**无副作用修改：**\n",
    "修改某一行的元素时，其他行不受影响。\n",
    "\n",
    "\n",
    "\n",
    "1.[[-1] * m] * n :  所有行共享引用\t只读操作（不可修改）\t修改导致全局污染\n",
    "\n",
    "2. [[-1 for j in range(m)] for i in range(n)]  : 每行独立内存空间\t需要修改元素的场景\t无\n"
   ]
  },
  {
   "cell_type": "markdown",
   "metadata": {},
   "source": [
    "### 10. 定义一个函数，把列表的偶数和下标是偶数的，返回新列表"
   ]
  },
  {
   "cell_type": "code",
   "execution_count": 4,
   "metadata": {},
   "outputs": [
    {
     "data": {
      "text/plain": [
       "[2, 4, 6, 8]"
      ]
     },
     "execution_count": 4,
     "metadata": {},
     "output_type": "execute_result"
    }
   ],
   "source": [
    "def num_list(num):\n",
    "    # num.index(i)出现重复元素只返回第一个位置\n",
    "    # return [i for i  in num if i %2 == 0 and num.index(i)%2 == 0]\n",
    "    return [num[i] for i  in range(len(num)) if num[i] %2 == 0 and i%2 == 0]\n",
    "num = [1,2,2,3,4,5,6,7,8]\n",
    "res = num_list(num)\n",
    "res"
   ]
  },
  {
   "cell_type": "markdown",
   "metadata": {},
   "source": [
    "### 11.输入某年某月某日，判断这一天是这一年的第几天\n",
    "\n"
   ]
  },
  {
   "cell_type": "code",
   "execution_count": null,
   "metadata": {},
   "outputs": [
    {
     "data": {
      "text/plain": [
       "datetime.timedelta(days=84)"
      ]
     },
     "execution_count": 6,
     "metadata": {},
     "output_type": "execute_result"
    }
   ],
   "source": [
    "import datetime\n",
    "y,m,d = map(int,\"2025.3.25\".split(\".\"))\n",
    "targetday = datetime.date(y,m,d)\n",
    "ans = targetday - datetime.date(y-1,12,31)\n",
    "ans"
   ]
  },
  {
   "cell_type": "code",
   "execution_count": 7,
   "metadata": {},
   "outputs": [
    {
     "name": "stdout",
     "output_type": "stream",
     "text": [
      "2025-03-28\n"
     ]
    }
   ],
   "source": [
    "# 获取当前日期\n",
    "from datetime import date\n",
    "\n",
    "today = date.today()  # 或 date.today().isoformat() 获取字符串\n",
    "print(today)  # 输出格式: YYYY-MM-DD（例如 2023-10-25）"
   ]
  },
  {
   "cell_type": "code",
   "execution_count": 8,
   "metadata": {},
   "outputs": [
    {
     "name": "stdout",
     "output_type": "stream",
     "text": [
      "2023-12-31\n"
     ]
    }
   ],
   "source": [
    "# 构造指定日期\n",
    "# 使用 date(year, month, day) 构造函数\n",
    "specific_date = date(2023, 12, 31)\n",
    "print(specific_date)  # 2023-12-31\n",
    "\n",
    "# 注意：月份或日期越界会抛出 ValueError"
   ]
  },
  {
   "cell_type": "code",
   "execution_count": 9,
   "metadata": {},
   "outputs": [
    {
     "name": "stdout",
     "output_type": "stream",
     "text": [
      "2023\n",
      "10\n",
      "25\n",
      "2\n",
      "3\n"
     ]
    }
   ],
   "source": [
    "# 访问日期属性\n",
    "d = date(2023, 10, 25)\n",
    "print(d.year)   # 2023\n",
    "print(d.month)  # 10\n",
    "print(d.day)    # 25\n",
    "print(d.weekday())  # 返回星期几（0=周一，6=周日）\n",
    "print(d.isoweekday())  # 返回星期几（1=周一，7=周日）"
   ]
  },
  {
   "cell_type": "code",
   "execution_count": 10,
   "metadata": {},
   "outputs": [
    {
     "name": "stdout",
     "output_type": "stream",
     "text": [
      "364\n"
     ]
    }
   ],
   "source": [
    "# 日期运算\n",
    "from datetime import timedelta\n",
    "\n",
    "# 加减天数\n",
    "new_date = d + timedelta(days=7)  # 加7天\n",
    "past_date = d - timedelta(days=30)  # 减30天\n",
    "\n",
    "# 计算日期差\n",
    "date1 = date(2023, 1, 1)\n",
    "date2 = date(2023, 12, 31)\n",
    "delta = date2 - date1\n",
    "print(delta.days)  # 输出两个日期相差的天数（364）"
   ]
  },
  {
   "cell_type": "code",
   "execution_count": 11,
   "metadata": {},
   "outputs": [],
   "source": [
    "# 格式化日期\n",
    "\n",
    "# 转为字符串（自定义格式）\n",
    "formatted = d.strftime(\"%Y/%m/%d\")  # 2023/10/25\n",
    "formatted_zh = d.strftime(\"%Y年%m月%d日\")  # 2023年10月25日\n",
    "\n",
    "# 常用格式符号：\n",
    "# %Y - 四位年份（如 2023）\n",
    "# %m - 两位月份（01-12）\n",
    "# %d - 两位日期（01-31）\n",
    "# %A - 星期全名（如 Monday）"
   ]
  },
  {
   "cell_type": "markdown",
   "metadata": {},
   "source": [
    "### 12.统计一段字符串中字符出现次数"
   ]
  },
  {
   "cell_type": "code",
   "execution_count": null,
   "metadata": {},
   "outputs": [
    {
     "name": "stdout",
     "output_type": "stream",
     "text": [
      "A5B4C3\n"
     ]
    }
   ],
   "source": [
    "from collections import Counter\n",
    "print(\"\".join(map(lambda x:x[0]+str(x[1]), Counter(\"AAABBBCCCABA\").most_common())))"
   ]
  },
  {
   "cell_type": "markdown",
   "metadata": {},
   "source": [
    "### 13.写一个类，并让他尽可能多的支操作符"
   ]
  },
  {
   "cell_type": "code",
   "execution_count": 13,
   "metadata": {},
   "outputs": [],
   "source": [
    "class Array:\n",
    "    def __init__(self):\n",
    "        print(1)\n",
    "    def __del__(self):\n",
    "        print(2)\n",
    "    def __str__(self):\n",
    "        print(3)\n",
    "    def __getitem__(self):\n",
    "        print(4)\n",
    "    def __len__(self):\n",
    "        print(5)"
   ]
  },
  {
   "cell_type": "markdown",
   "metadata": {},
   "source": [
    "### 14.python的内存管理机制和调优手段\n",
    "Python 的内存管理机制和调优手段是开发者需要深入理解的重要主题，尤其是在处理大规模数据或高并发场景时。以下是详细总结：\n",
    "\n",
    "---\n",
    "\n",
    "### **一、Python 内存管理机制**\n",
    "\n",
    "#### 1. **私有堆（Private Heap）**\n",
    "   - Python 的内存管理基于一个私有堆，所有对象（如列表、字典、类实例等）都存储在这个堆中。\n",
    "   - 开发者无法直接操作堆，而是通过 Python 解释器提供的接口间接管理。\n",
    "   - 堆的分配和释放由 Python 的内存管理器自动处理。\n",
    "\n",
    "#### 2. **引用计数（Reference Counting）**\n",
    "   - **核心机制**：每个对象都有一个引用计数，表示有多少变量或结构指向它。\n",
    "     ```python\n",
    "     a = [1, 2, 3]  # 引用计数为1\n",
    "     b = a          # 引用计数为2\n",
    "     del b          # 引用计数回到1\n",
    "     ```\n",
    "   - **优点**：引用计数归零时，对象会立即被回收。\n",
    "   - **缺点**：无法处理循环引用（如两个对象互相引用）。\n",
    "\n",
    "#### 3. **垃圾回收（Garbage Collection, GC）**\n",
    "   - **分代回收（Generational GC）**：\n",
    "     - Python 将对象分为 3 代（Generation 0/1/2），新创建的对象在 Generation 0。\n",
    "     - 存活时间越长的对象，被检查的频率越低。\n",
    "   - **标记-清除（Mark and Sweep）**：\n",
    "     - 处理循环引用问题，遍历对象图标记活跃对象，清除未被标记的对象。\n",
    "   - **手动触发**：可以通过 `gc.collect()` 强制触发垃圾回收。\n",
    "\n",
    "#### 4. **内存池（Memory Pool）**\n",
    "   - Python 对小型对象（如整数、短字符串）使用内存池（Blocks 和 Pools），避免频繁调用 `malloc/free`。\n",
    "   - 例如：小整数（-5 到 256）在解释器启动时预分配，重复使用。\n",
    "\n",
    "---\n",
    "\n",
    "\n",
    "\n",
    "### **三、内存调优手段**\n",
    "\n",
    "#### 1. **避免循环引用**\n",
    "   - 手动打破循环引用：\n",
    "     ```python\n",
    "     a.children = []\n",
    "     b.parent = None\n",
    "     ```\n",
    "   - 使用弱引用（`weakref`）：\n",
    "     ```python\n",
    "     import weakref\n",
    "     b.parent = weakref.ref(a)  # 弱引用不增加计数\n",
    "     ```\n",
    "\n",
    "#### 2. **及时释放大对象**\n",
    "   - 显式删除不再使用的对象：\n",
    "     ```python\n",
    "     large_data = [x for x in range(10**6)]\n",
    "     # 处理完成后\n",
    "     del large_data\n",
    "     ```\n",
    "   - 将大对象设为 `None`：\n",
    "     ```python\n",
    "     large_data = None\n",
    "     ```\n",
    "\n",
    "#### 3. **使用生成器（Generators）**\n",
    "   - 避免一次性加载所有数据到内存：\n",
    "     ```python\n",
    "     def read_large_file(file_path):\n",
    "         with open(file_path, 'r') as f:\n",
    "             for line in f:\n",
    "                 yield line  # 逐行读取\n",
    "     ```\n",
    "\n",
    "#### 4. **选择高效的数据结构**\n",
    "   - 使用 `array` 模块代替列表存储数值：\n",
    "     ```python\n",
    "     import array\n",
    "     arr = array.array('i', [1, 2, 3])  # 更省内存\n",
    "     ```\n",
    "   - 使用 `sys.getsizeof()` 查看对象内存占用：\n",
    "     ```python\n",
    "     import sys\n",
    "     print(sys.getsizeof([1, 2, 3]))  # 输出列表占用的字节数\n",
    "     ```\n",
    "\n",
    "#### 5. **内存分析工具**\n",
    "   - **内置工具**：\n",
    "     - `sys.getrefcount()`：查看对象引用计数。\n",
    "     - `tracemalloc`：跟踪内存分配。\n",
    "       ```python\n",
    "       import tracemalloc\n",
    "       tracemalloc.start()\n",
    "       # ... 执行代码 ...\n",
    "       snapshot = tracemalloc.take_snapshot()\n",
    "       top_stats = snapshot.statistics('lineno')\n",
    "       for stat in top_stats[:10]:\n",
    "           print(stat)\n",
    "       ```\n",
    "   - **第三方工具**：\n",
    "     - `memory_profiler`：逐行分析内存使用。\n",
    "     - `objgraph`：可视化对象引用关系。\n",
    "     - `pympler`：统计对象内存使用。\n",
    "\n",
    "#### 6. **调整垃圾回收策略**\n",
    "   - 禁用或调整 GC 频率：\n",
    "     ```python\n",
    "     import gc\n",
    "     gc.disable()  # 禁用自动 GC（慎用！）\n",
    "     gc.set_threshold(700, 10, 5)  # 调整分代回收阈值\n",
    "     ```\n",
    "\n"
   ]
  },
  {
   "cell_type": "markdown",
   "metadata": {},
   "source": [
    "### 15.内存泄漏是什么，如何避免\n",
    "\n",
    "1. **循环引用**：\n",
    "   ```python\n",
    "   class Node:\n",
    "       def __init__(self):\n",
    "           self.parent = None\n",
    "           self.children = []\n",
    "   \n",
    "   a = Node()\n",
    "   b = Node()\n",
    "   a.children.append(b)\n",
    "   b.parent = a  # 循环引用\n",
    "   ```\n",
    "   - 即使删除 `a` 和 `b`，引用计数仍为 1，依赖 GC 回收。\n",
    "\n",
    "2. **全局变量或缓存未释放**：\n",
    "   ```python\n",
    "   cache = {}\n",
    "   def process_data(data):\n",
    "       cache[data.id] = data  # 长期持有引用\n",
    "   ```\n",
    "\n",
    "3. **未关闭的资源**：\n",
    "   - 文件、网络连接、数据库连接未显式关闭。\n",
    "\n",
    "---"
   ]
  },
  {
   "cell_type": "markdown",
   "metadata": {},
   "source": [
    "### 16. 简述read() , readline() ,readlines()的区别\n",
    "- read([size]) ：读取文件的全部内容，或指定字节数（size 参数） --字符串（str 类型）。\n",
    "\n",
    "- readline([size])：：逐行读取文件内容，每次读取一行 --返回值：字符串（str 类型）\n",
    "\n",
    "- readlines()：读取文件的所有行，返回一个列表。 -- 返回值：列表（list 类型）\n",
    "\n",
    "\n"
   ]
  },
  {
   "cell_type": "markdown",
   "metadata": {},
   "source": [
    "### 17.函数调用参数的传递方式：值传递 还是 引用传递\n",
    "\n",
    "**传递对象的引用**\n",
    "\n",
    "调用函数时，参数传递的是对象的引用（内存地址），而非对象本身的副本。\n",
    "\n",
    "函数内外操作的是同一个对象，但具体行为因对象是否可变而不同。\n",
    "\n",
    "\n",
    "\n",
    "- 可变对象：列表（list）、字典（dict）、集合（set）等。\n",
    "\n",
    "函数内修改对象内容（如增删元素）会影响外部对象。\n",
    "\n",
    "- 不可变对象：整数（int）、字符串（str）、元组（tuple）等。\n",
    "\n",
    "函数内无法直接修改原对象，操作会创建新对象，外部对象不变。"
   ]
  },
  {
   "cell_type": "markdown",
   "metadata": {},
   "source": [
    "### 18. 编写函数的4个原则\n",
    "1. 短小\n",
    "2. 合理\n",
    "3. 向下兼容\n",
    "4. 一个函数一个功能"
   ]
  },
  {
   "cell_type": "markdown",
   "metadata": {},
   "source": [
    "### 19. 什么是lambda函数？有什么好处\n",
    "是 Python 中一种简洁的、无需命名的函数定义方式\n",
    "\n",
    "- 简洁性\n",
    "无需完整定义 def 函数，适合快速实现简单逻辑，减少代码冗余。\n",
    "\n",
    "- -即用即弃\n",
    "适用于临时、一次性使用的场景（如作为参数传递给 map、filter、sorted 等函数）。\n",
    "\n",
    "- 函数式编程友好\n",
    "方便与高阶函数结合，提升代码的声明式风格（Declarative Style）。\n",
    "\n",
    "- 闭包特性\n",
    "可以捕获外部变量，实现灵活的逻辑封装："
   ]
  },
  {
   "cell_type": "code",
   "execution_count": 15,
   "metadata": {},
   "outputs": [
    {
     "name": "stdout",
     "output_type": "stream",
     "text": [
      "5\n",
      "5\n"
     ]
    }
   ],
   "source": [
    "# 普通函数\n",
    "def add(x, y):\n",
    "    return x + y\n",
    "\n",
    "# 等效的 lambda 函数\n",
    "add_lambda = lambda x, y: x + y\n",
    "\n",
    "print(add(2, 3))        # 输出 5\n",
    "print(add_lambda(2, 3)) # 输出 5"
   ]
  },
  {
   "cell_type": "markdown",
   "metadata": {},
   "source": [
    "### 20.对装饰器的理解，并写出一个计时器记录方法执行性能的装饰\n",
    "装饰器（Decorator）是一种用于修改或增强函数行为的语法工具。它通过高阶函数实现，允许在不修改原函数代码的前提下，为函数添加额外功能（如日志、计时、权限校验等）。装饰器的核心思想是“用函数包装函数”。\n",
    "\n",
    "\n",
    "| 语法     | 用途                     | 数据类型 | 典型场景                     |\n",
    "|----------|--------------------------|----------|-----------------------------|\n",
    "| `*args`  | 接收任意位置参数         | 元组     | 扩展函数参数、解包序列       |\n",
    "| `**kwargs` | 接收任意关键字参数     | 字典     | 处理配置项、解包字典参数     |\n",
    "\n",
    "掌握 `*args` 和 `**kwargs` 可以显著提升代码的灵活性，尤其在处理不确定参数数量或设计通用接口时非常有用。\n"
   ]
  },
  {
   "cell_type": "code",
   "execution_count": null,
   "metadata": {},
   "outputs": [],
   "source": [
    "import time\n",
    "from functools import wraps\n",
    "\n",
    "def timer_decorator(func):\n",
    "    \"\"\"\n",
    "    计时器装饰器：记录被装饰函数的执行时间\n",
    "    \"\"\"\n",
    "    @wraps(func)  # 保留原函数的元信息（如函数名、文档）\n",
    "    def wrapper(*args, **kwargs):\n",
    "        start_time = time.perf_counter()  # 记录开始时间（高精度）\n",
    "        result = func(*args, **kwargs)    # 执行原函数并获取结果\n",
    "        end_time = time.perf_counter()    # 记录结束时间\n",
    "        elapsed = end_time - start_time   # 计算耗时（秒）\n",
    "        print(f\"函数 {func.__name__!r} 执行耗时: {elapsed:.6f} 秒\")\n",
    "        return result  # 返回原函数的执行结果\n",
    "    return wrapper\n",
    "\n",
    "\n",
    "# 使用示例\n",
    "@timer_decorator\n",
    "def example_function(n):\n",
    "    \"\"\"示例函数：模拟耗时操作\"\"\"\n",
    "    sum_val = 0\n",
    "    for i in range(n):\n",
    "        sum_val += i\n",
    "    return sum_val\n",
    "\n",
    "# 调用测试\n",
    "example_function(1000000)\n",
    "# 输出：函数 'example_function' 执行耗时: 0.034872 秒"
   ]
  },
  {
   "cell_type": "markdown",
   "metadata": {},
   "source": [
    "### 21.面向对象的理解\n",
    "- 继承:子类继承父类的属性和方法，实现代码复用和扩展。 -- 扩展性，代码复用\n",
    "\n",
    "- 封装:隐藏内部实现细节，仅暴露必要接口  -- 模块化 ，数据安全\n",
    "实现：\n",
    "\n",
    "私有属性/方法：通过名称前加 _ 或 __ 实现（Python 中更多是约定而非强制）。\n",
    "\n",
    "公共接口：通过方法控制对属性的访问。\n",
    "\n",
    "\n",
    "- 多态：不同对象对同一方法调用产生不同行为。\n",
    "\n",
    "\n",
    "```python\n",
    "    class Bird(Animal):\n",
    "        def speak(self):\n",
    "            print(f\"{self.name} 说：叽喳~\")\n",
    "\n",
    "    def animal_sound(animal):\n",
    "        animal.speak()  # 多态：根据对象类型调用不同方法\n",
    "\n",
    "    animal_sound(Cat(\"小黑\"))  # 输出 \"小黑 说：喵~\"\n",
    "    animal_sound(Bird(\"小黄\")) # 输出 \"小黄 说：叽喳~\"\n",
    "```"
   ]
  },
  {
   "cell_type": "markdown",
   "metadata": {},
   "source": [
    "### 22.python字符串的查找和替换\n",
    "\n",
    "\n",
    "| 方法        | 所属模块     | 匹配范围       | 返回值         | 支持正则 |\n",
    "|-------------|-------------|---------------|----------------|---------|\n",
    "| `find()`    | 字符串方法  | 子字符串       | 索引或 `-1`    | 否      |\n",
    "| `search()`  | `re` 模块   | 整个字符串     | `Match` 或 `None` | 是      |\n",
    "| `match()`   | `re` 模块   | 仅字符串开头   | `Match` 或 `None` | 是      |\n",
    "\n"
   ]
  },
  {
   "cell_type": "code",
   "execution_count": null,
   "metadata": {},
   "outputs": [
    {
     "name": "stdout",
     "output_type": "stream",
     "text": [
      "17\n",
      "<re.Match object; span=(17, 19), match='Py'>\n",
      "None\n"
     ]
    }
   ],
   "source": [
    "import re\n",
    "text = \"Hello, Pooython  Py ad  Py!\"\n",
    "print(text.find(\"Py\"))   # 输出 7（索引位置） 在字符串中查找子字符串的首次出现位置。\n",
    "print(re.search(r\"Py\",text)) # 输出 -1（未找到）  直到找到第一个匹配项\n",
    "print(re.match(r\"Py\",text))"
   ]
  },
  {
   "cell_type": "code",
   "execution_count": 17,
   "metadata": {},
   "outputs": [
    {
     "name": "stdout",
     "output_type": "stream",
     "text": [
      "None\n",
      "<re.Match object; span=(3, 6), match='abc'>\n"
     ]
    }
   ],
   "source": [
    "import re\n",
    "text = \"123abc\"\n",
    "\n",
    "a = re.match(r\"abc\", text)    # 返回 None（开头不是 \"abc\"）\n",
    "b = re.search(r\"abc\", text)   # 找到 \"abc\"（返回 Match 对象）\n",
    "print(a)\n",
    "print(b)"
   ]
  },
  {
   "cell_type": "code",
   "execution_count": 27,
   "metadata": {},
   "outputs": [
    {
     "name": "stdout",
     "output_type": "stream",
     "text": [
      "['5元', '3元', '8元']\n"
     ]
    }
   ],
   "source": [
    "# findall()  返回字符串中所有与正则表达式匹配的非重叠子字符串。  --一个列表（list）\n",
    "\n",
    "import re\n",
    "text = \"苹果 5元，香蕉 3元，葡萄 8元\"\n",
    "prices = re.findall(r\"\\d+元\", text)  # 匹配所有“数字+元”的文本\n",
    "print(prices)  # 输出: ['5元', '3元', '8元']"
   ]
  },
  {
   "cell_type": "code",
   "execution_count": 29,
   "metadata": {},
   "outputs": [
    {
     "name": "stdout",
     "output_type": "stream",
     "text": [
      "日期: 2023年10月25日\n",
      "日期: 2024年01月01日\n"
     ]
    }
   ],
   "source": [
    "# finditer() 内存占用低 --返回一个迭代器，逐个生成所有匹配的 Match 对象。\n",
    "# 返回值：一个迭代器（Iterator[Match]），需遍历获取每个匹配的详细信息。\n",
    "text = \"2023-10-25 和 2024-01-01 是两个日期\"\n",
    "pattern = r\"(\\d{4})-(\\d{2})-(\\d{2})\"\n",
    "\n",
    "# 遍历所有匹配项，提取年月日分组\n",
    "for match in re.finditer(pattern, text):\n",
    "    year, month, day = match.groups()\n",
    "    print(f\"日期: {year}年{month}月{day}日\")\n"
   ]
  },
  {
   "cell_type": "markdown",
   "metadata": {},
   "source": [
    "### 23.正则表达示的贪婪与非贪婪模式的区别\n"
   ]
  },
  {
   "cell_type": "code",
   "execution_count": null,
   "metadata": {},
   "outputs": [
    {
     "name": "stdout",
     "output_type": "stream",
     "text": [
      "<div>Hello</div><div>World</div>\n"
     ]
    }
   ],
   "source": [
    "# 贪婪模式\n",
    "# 默认行为：量词默认是贪婪的，会尽可能多地匹配字符。\n",
    "import re\n",
    "\n",
    "text = \"<div>Hello</div><div>World</div>\"\n",
    "\n",
    "# 贪婪匹配：匹配从第一个 <div> 到最后一个 </div> 之间的所有内容\n",
    "greedy_match = re.search(r\"<div>.*</div>\", text)\n",
    "print(greedy_match.group())  # 输出: <div>Hello</div><div>World</div>\n"
   ]
  },
  {
   "cell_type": "code",
   "execution_count": null,
   "metadata": {},
   "outputs": [],
   "source": [
    "# 非贪婪模式  启用方式：在量词后添加 ?（如 *?、+?、??、{n,m}?）。\n",
    "# 行为：会尽可能少地匹配字符，匹配到第一个满足条件的位置即停止。\n",
    "# 非贪婪匹配：匹配第一个 </div> 前的内容\n",
    "non_greedy_match = re.search(r\"<div>.*?</div>\", text)\n",
    "print(non_greedy_match.group())  # 输出: <div>Hello</div>"
   ]
  },
  {
   "cell_type": "markdown",
   "metadata": {},
   "source": [
    "### 24.python异步的使用场景有哪些\n",
    "（1）不涉及共享资源，如共享资源只读\n",
    "（2）没有时序上的严格关系\n",
    "（3）不需要原子操作\n",
    "（4）io耗时操作\n",
    "（5）不影响主线程逻辑\n",
    "\n",
    "\n",
    "- 异步函数定义：\n",
    "\n",
    "使用 async def 定义异步函数，表明函数内部可能有异步操作（如 await）。\n",
    "\n",
    "- 非阻塞等待：\n",
    "\n",
    "await asyncio.sleep(2) 模拟异步等待，此时事件循环（Event Loop） 会暂停当前任务，转去执行其他任务，而不是傻等。\n",
    "\n",
    "- 并发执行：\n",
    "\n",
    "asyncio.gather() 将多个异步任务打包并发执行，实现同时处理多个 I/O 操作。\n",
    "\n",
    "- 事件循环：\n",
    "\n",
    "asyncio.run(main()) 启动事件循环，调度所有异步任务。\n",
    "\n",
    "\n",
    "\n",
    "1. 网络请求密集型应用\n",
    "场景：需要同时发起大量 HTTP 请求、调用 API 或爬取数据。\n",
    "优势：异步避免等待单个请求响应，提升吞吐量。\n",
    "1. 高并发 Web 服务\n",
    "Web 服务器需同时处理大量客户端请求（如实时聊天、高频 API）。\n",
    "1. 数据库与缓存操作\n",
    "高频访问数据库或缓存（如 Redis、PostgreSQL）\n",
    "\n",
    "1. 微服务与消息队列\n",
    "场景：异步消费消息队列（如 RabbitMQ、Kafka）或服务间通信。\n",
    "\n",
    "1. 实时应用与长连接\n",
    "场景：WebSocket 服务器、实时通知、在线游戏。\n",
    "\n",
    "1. 文件 I/O 操作（结合线程池）\n",
    "大量文件读写（需注意：原生异步文件 I/O 需特定库支持，如 aiofiles）。\n",
    "\n",
    "1. 定时任务与调度\n",
    "周期性任务（如定时爬虫、数据清理）"
   ]
  },
  {
   "cell_type": "markdown",
   "metadata": {},
   "source": [
    "### 25.多线程同步操作同一个数据互斥锁同步怎么实现？\n",
    "\n",
    "- 为什么需要锁？\n",
    "\n",
    "多线程同时修改共享数据可能导致 竞态条件（Race Condition），例如 counter += 1 并非原子操作，实际执行分为读取、计算、写入三步，不加锁会导致结果错误。\n",
    "\n",
    "- 锁的工作原理\n",
    "\n",
    "锁有两种状态：锁定（Locked） 和 未锁定（Unlocked）。\n",
    "\n",
    "当线程调用 lock.acquire() 时，如果锁未锁定，则立即锁定；否则阻塞等待。\n",
    "\n",
    "操作完成后必须调用 lock.release() 释放锁，否则其他线程会永久阻塞。\n",
    "\n",
    "- 避免死锁\n",
    "\n",
    "确保锁一定被释放（使用 try-finally 或 with 语句）。\n",
    "\n",
    "避免嵌套锁或跨线程重复加锁。"
   ]
  },
  {
   "cell_type": "code",
   "execution_count": 30,
   "metadata": {},
   "outputs": [
    {
     "name": "stdout",
     "output_type": "stream",
     "text": [
      "Final counter value: 200000\n"
     ]
    }
   ],
   "source": [
    "import threading\n",
    "\n",
    "# 共享数据\n",
    "counter = 0\n",
    "# 创建互斥锁\n",
    "lock = threading.Lock()\n",
    "\n",
    "def increment():\n",
    "    global counter\n",
    "    for _ in range(100000):\n",
    "        # 获取锁（若锁被占用，线程会阻塞等待）\n",
    "        lock.acquire()\n",
    "        try:\n",
    "            counter += 1  # 操作共享数据\n",
    "        finally:\n",
    "            # 释放锁（必须确保释放，否则会导致死锁）\n",
    "            lock.release()\n",
    "\n",
    "# 创建两个线程\n",
    "t1 = threading.Thread(target=increment)\n",
    "t2 = threading.Thread(target=increment)\n",
    "\n",
    "# 启动线程\n",
    "t1.start()\n",
    "t2.start()\n",
    "\n",
    "# 等待线程结束\n",
    "t1.join()\n",
    "t2.join()\n",
    "\n",
    "print(f\"Final counter value: {counter}\")  # 正确输出 200000"
   ]
  },
  {
   "cell_type": "code",
   "execution_count": 31,
   "metadata": {},
   "outputs": [
    {
     "name": "stdout",
     "output_type": "stream",
     "text": [
      "Final counter value: 200000\n"
     ]
    }
   ],
   "source": [
    "#  使用 with 语句简化锁管理（推荐）\n",
    "def increment_safe():\n",
    "    global counter\n",
    "    for _ in range(100000):\n",
    "        with lock:  # 自动获取和释放锁\n",
    "            counter += 1\n",
    "import threading\n",
    "\n",
    "# 共享数据\n",
    "counter = 0\n",
    "# 创建互斥锁\n",
    "lock = threading.Lock()\n",
    "# 创建两个线程\n",
    "t1 = threading.Thread(target=increment)\n",
    "t2 = threading.Thread(target=increment)\n",
    "\n",
    "# 启动线程\n",
    "t1.start()\n",
    "t2.start()\n",
    "\n",
    "# 等待线程结束\n",
    "t1.join()\n",
    "t2.join()\n",
    "\n",
    "print(f\"Final counter value: {counter}\")  # 正确输出 200000\n"
   ]
  },
  {
   "cell_type": "markdown",
   "metadata": {},
   "source": [
    "### 26.什么是死锁\n",
    "死锁的发生必须同时满足以下四个条件：\n",
    "\n",
    "1. 互斥条件（Mutual Exclusion）\n",
    "资源一次只能被一个线程独占使用（如锁、文件句柄）。\n",
    "\n",
    "2. 持有并等待（Hold and Wait）\n",
    "线程在持有至少一个资源的同时，还在等待其他线程持有的资源。\n",
    "\n",
    "3. 不可抢占（No Preemption）\n",
    "资源不能被强制从持有它的线程中夺走，只能由持有者主动释放。\n",
    "\n",
    "4. 循环等待（Circular Wait）\n",
    "存在一个线程等待链，每个线程都在等待下一个线程所持有的资源"
   ]
  },
  {
   "cell_type": "code",
   "execution_count": null,
   "metadata": {},
   "outputs": [
    {
     "name": "stdout",
     "output_type": "stream",
     "text": [
      "线程1 持有锁A，尝试获取锁B...线程2 持有锁B，尝试获取锁A...\n",
      "\n"
     ]
    }
   ],
   "source": [
    "import threading\n",
    "\n",
    "# 创建两把锁\n",
    "lock_a = threading.Lock()\n",
    "lock_b = threading.Lock()\n",
    "\n",
    "def thread_1():\n",
    "    with lock_a:  # 获取锁A\n",
    "        print(\"线程1 持有锁A，尝试获取锁B...\")\n",
    "        with lock_b:  # 尝试获取锁B（但锁B已被线程2持有）\n",
    "            print(\"线程1 同时持有锁A和锁B\")\n",
    "\n",
    "def thread_2():\n",
    "    with lock_b:  # 获取锁B\n",
    "        print(\"线程2 持有锁B，尝试获取锁A...\")\n",
    "        with lock_a:  # 尝试获取锁A（但锁A已被线程1持有）\n",
    "            print(\"线程2 同时持有锁B和锁A\")\n",
    "\n",
    "# 创建并启动线程\n",
    "t1 = threading.Thread(target=thread_1)\n",
    "t2 = threading.Thread(target=thread_2)\n",
    "t1.start()\n",
    "t2.start()\n",
    "\n",
    "# 等待线程结束（此处会无限阻塞）\n",
    "t1.join()\n",
    "t2.join()"
   ]
  },
  {
   "cell_type": "code",
   "execution_count": null,
   "metadata": {},
   "outputs": [],
   "source": [
    "# 死锁的避免方法\n",
    "# 1 破坏循环等待条件\n",
    "def thread_1_safe():\n",
    "    with lock_a:  # 先获取锁A\n",
    "        with lock_b:  # 再获取锁B\n",
    "            print(\"线程1 安全执行\")\n",
    "\n",
    "def thread_2_safe():\n",
    "    with lock_a:  # 同样先获取锁A（即使需要锁B）\n",
    "        with lock_b:\n",
    "            print(\"线程2 安全执行\")\n",
    "# 2 使用超时机制  lock.acquire(timeout=5) 设置获取锁的超时时间，超时后释放已持有的锁并重试\n",
    "def thread_timeout():\n",
    "    while True:\n",
    "        if lock_a.acquire(timeout=1):\n",
    "            try:\n",
    "                if lock_b.acquire(timeout=1):\n",
    "                    try:\n",
    "                        print(\"获取成功\")\n",
    "                        break\n",
    "                    finally:\n",
    "                        lock_b.release()\n",
    "            finally:\n",
    "                lock_a.release()\n",
    "        print(\"超时重试...\")"
   ]
  },
  {
   "cell_type": "markdown",
   "metadata": {},
   "source": [
    "### 27.python中进程与线程的使用场景\n",
    "- 进程里有线程，线程里有协程\n",
    "- 每个进程有独立 GIL\n",
    "- 全局解释器锁（GIL，Global Interpreter Lock） 是 Python（特指 CPython 实现）中的一个机制，它确保同一时刻只有一个线程执行 Python 字节码。GIL 的设计简化了 CPython 的内存管理和线程安全，但也导致多线程程序在 CPU 密集型任务 中无法充分利用多核 CPU 的并行能力。\n",
    "\n",
    "\n",
    "\n",
    "\n",
    "| **维度**         | **进程（Process）**                              | **线程（Thread）**                          |\n",
    "|------------------|------------------------------------------------|--------------------------------------------|\n",
    "| **资源隔离**     | 独立内存空间，数据共享需通过 IPC（如队列、管道） | 共享进程内存，可直接访问全局变量（需同步）  |\n",
    "| **开销**         | 创建和切换开销大（适合长任务）                 | 创建和切换开销小（适合短任务）              |\n",
    "| **并行能力**     | 可绕过 GIL，支持多核并行（CPU 密集型）          | 受 GIL 限制，并发而非并行（I/O 密集型）      |\n",
    "| **稳定性**       | 进程崩溃不影响其他进程                         | 线程崩溃可能导致整个进程终止                |\n",
    "| **适用场景**     | CPU 密集型任务、需要资源隔离的场景              | I/O 密集型任务、需要轻量级并发的场景        |\n",
    "\n",
    "---\n",
    "\n",
    "| **任务类型**       | **推荐机制** | **原因**                                   |\n",
    "|--------------------|-------------|-------------------------------------------|\n",
    "| 计算密集（如数值计算） | 进程         | 多核并行绕过 GIL，提升计算效率              |\n",
    "| I/O 密集（如网络请求） | 线程         | 并发切换开销低，避免进程创建成本            |\n",
    "| 需要高稳定性       | 进程         | 进程隔离防止单点故障影响整体                |\n",
    "| 需共享大量数据     | 线程         | 内存共享更便捷（需同步锁）                  |\n",
    "\n",
    "\n",
    "\n",
    "\n",
    "\n"
   ]
  },
  {
   "cell_type": "markdown",
   "metadata": {},
   "source": [
    "### 28.Flask和Django路由映射的区别\n",
    "\n",
    "\n",
    "| **维度**         | **Flask**                          | **Django**                        |\n",
    "|------------------|------------------------------------|-----------------------------------|\n",
    "| **路由定义**     | 装饰器直接绑定视图函数             | 集中式 `urls.py` 文件配置          |\n",
    "| **参数传递**     | `<variable>` 动态路径              | 路径转换器（如 `<int:id>`）        |\n",
    "| **正则支持**     | 需扩展或自定义转换器               | 原生支持 `re_path()`               |\n",
    "| **模块化**       | 蓝图（Blueprint）                  | 应用（App）路由包含                |\n",
    "| **HTTP 方法**    | 装饰器 `methods` 参数指定          | 视图函数或类方法处理               |\n",
    "| **适用场景**     | 轻量级应用、微服务、快速开发       | 全栈项目、企业级应用、ORM 深度集成 |\n",
    "\n",
    "---\n",
    "\n",
    "- **Flask**：适合需要高度灵活性、快速迭代的小型项目或 API 服务。\n",
    "- **Django**：适合需要内置功能（如 Admin、ORM、认证）的大型项目，遵循“约定优于配置”原则。\n"
   ]
  },
  {
   "cell_type": "markdown",
   "metadata": {},
   "source": [
    "### 29. 逻辑运算符的优先级\n",
    "\n",
    "比较运算符（如 >、==、in） -->  逻辑运算符 --> 赋值运算符 =\n",
    "\n",
    "| **运算符** | **优先级** | **执行顺序**           | **示例**               |\n",
    "|------------|------------|------------------------|------------------------|\n",
    "| `not`      | 最高       | 单目运算，先执行        | `not x` → 先计算 `not` |\n",
    "| `and`      | 中         | 从左到右，次于 `not`    | `x and y` → 后计算     |\n",
    "| `or`       | 最低       | 从左到右，最后执行      | `x or y` → 最后计算    |\n",
    "\n",
    "\n",
    "\n"
   ]
  },
  {
   "cell_type": "code",
   "execution_count": null,
   "metadata": {},
   "outputs": [
    {
     "data": {
      "text/plain": [
       "True"
      ]
     },
     "execution_count": 4,
     "metadata": {},
     "output_type": "execute_result"
    }
   ],
   "source": [
    "# 示例表达式  先执行 not True → False\n",
    "result = not True and False or True\n",
    "result"
   ]
  },
  {
   "cell_type": "markdown",
   "metadata": {},
   "source": [
    "### 30.python如何单例模式\n",
    "单例模式（Singleton Pattern） 是一种创建型设计模式，其核心目标是确保一个类只有一个实例，并提供该实例的全局访问点。\n",
    "- 唯一性：类只能被实例化一次。\n",
    "\n",
    "- 全局访问：通过统一入口获取实例（如 get_instance() 方法）。\n",
    "\n",
    "- 延迟初始化：实例在首次请求时创建（可选）。"
   ]
  },
  {
   "cell_type": "code",
   "execution_count": null,
   "metadata": {},
   "outputs": [],
   "source": [
    "#  即在初始化的时候就将类的初始变量赋值\n",
    "# singleton.py\n",
    "class SingletonClass:\n",
    "    def __init__(self):\n",
    "        self.data = \"Singleton Data\"\n",
    "\n",
    "singleton_instance = SingletonClass()\n",
    "\n",
    "# 在其他文件中导入该实例\n",
    "from singleton import singleton_instance\n",
    "print(singleton_instance.data)  # 输出 \"Singleton Data\""
   ]
  },
  {
   "cell_type": "markdown",
   "metadata": {},
   "source": [
    "### 31.python语言的理解 ，优缺点 ，与其它语言的区别\n",
    "\n",
    "Python 是一种**高级、解释型、动态类型**的通用编程语言，以其简洁的语法、强大的生态系统和广泛的应用场景而闻名。以下是关于 Python 的核心理解、优缺点以及与其他编程语言的区别：\n",
    "\n",
    "---\n",
    "\n",
    "### **一、Python 的核心特点**\n",
    "1. **简洁易读的语法**  \n",
    "   - 使用缩进（空格/制表符）代替大括号，强制代码结构清晰。  \n",
    "   - 类似自然语言的表达方式，降低学习门槛。  \n",
    "   ```python\n",
    "   # 示例：快速生成列表\n",
    "   squares = [x**2 for x in range(10)]\n",
    "   ```\n",
    "\n",
    "2. **动态类型**  \n",
    "   - 变量无需声明类型，运行时自动推断。  \n",
    "   - 灵活但可能隐藏类型错误（需通过测试和类型提示规避）。  \n",
    "\n",
    "3. **解释型语言**  \n",
    "   - 代码逐行解释执行，无需编译（但会生成字节码 `.pyc`）。  \n",
    "   - 开发调试快速，但运行效率低于编译型语言（如 C++）。  \n",
    "\n",
    "4. **丰富的标准库和第三方库**  \n",
    "   - 标准库涵盖文件操作、网络通信、数据处理等。  \n",
    "   - 第三方库如 `NumPy`（科学计算）、`Django`（Web 框架）、`Pandas`（数据分析）等。  \n",
    "\n",
    "5. **多范式支持**  \n",
    "   - 支持面向对象、函数式、过程式编程。  \n",
    "\n",
    "6. **跨平台性**  \n",
    "   - 代码可在 Windows、Linux、macOS 等系统无缝运行。  \n",
    "\n",
    "---\n",
    "\n",
    "### **二、Python 的优缺点**\n",
    "#### **优点**  \n",
    "1. **开发效率高**  \n",
    "   - 语法简洁，代码量少，适合快速原型开发和迭代。  \n",
    "   - 适合脚本、自动化任务和小型工具开发。  \n",
    "\n",
    "2. **社区和生态强大**  \n",
    "   - 活跃的开发者社区，海量开源库覆盖几乎所有领域。  \n",
    "   - 数据科学（AI/ML）、Web 开发、DevOps 等领域的主导语言。  \n",
    "\n",
    "3. **易于集成**  \n",
    "   - 可通过 `C/C++` 扩展提升性能，或调用其他语言编写的模块。  \n",
    "   - 支持与 Java（Jython）、.NET（IronPython）等平台交互。  \n",
    "\n",
    "4. **适合教育和科研**  \n",
    "   - 语法简单，适合编程教学；在科研领域广泛用于数据处理和可视化。  \n",
    "\n",
    "#### **缺点**  \n",
    "1. **运行效率较低**  \n",
    "   - 解释型语言和动态类型的特性导致执行速度较慢，不适合高性能计算（需用 `Cython` 或 `Numba` 优化）。  \n",
    "\n",
    "2. **全局解释器锁（GIL）**  \n",
    "   - 限制多线程并行执行，CPU 密集型任务多线程无法充分利用多核（可通过多进程或异步编程缓解）。  \n",
    "\n",
    "3. **动态类型的隐患**  \n",
    "   - 类型错误可能在运行时才暴露，需依赖测试和类型提示（Python 3.5+ 支持 `Type Hints`）。  \n",
    "\n",
    "4. **移动端支持弱**  \n",
    "   - 在移动开发（Android/iOS）中不占优势，远不如 Java/Kotlin/Swift。  \n",
    "\n",
    "---\n",
    "\n",
    "### **三、Python 与其他语言的对比**\n",
    "| **特性**           | **Python**                          | **其他语言（如 Java/C++/JavaScript）**      |\n",
    "|---------------------|-------------------------------------|--------------------------------------------|\n",
    "| **类型系统**        | 动态类型                            | Java/C++：静态类型；JavaScript：动态类型   |\n",
    "| **执行方式**        | 解释型（部分 JIT 优化）             | C++：编译型；Java：编译为字节码 + JVM      |\n",
    "| **语法简洁性**      | 极高，代码量少                      | Java/C++：代码冗长；JavaScript：中等       |\n",
    "| **性能**            | 较低，适合 IO 密集型任务            | C++/Rust：高性能；Java：中等               |\n",
    "| **并发模型**        | 多线程受 GIL 限制，多用多进程/异步  | Go：轻量级协程（goroutine）；Java：多线程  |\n",
    "| **应用领域**        | 数据科学、Web 后端、脚本自动化       | C++：系统开发；Java：企业应用；JS：前端    |\n",
    "| **学习曲线**        | 平缓，适合初学者                    | C++：陡峭；Java：中等                      |\n",
    "\n",
    "#### **典型场景对比**\n",
    "1. **Python vs Java**  \n",
    "   - Python 开发效率高，适合快速迭代；Java 静态类型和 JVM 优化更适合大型企业级应用。  \n",
    "2. **Python vs JavaScript**  \n",
    "   - JavaScript 为浏览器而生，主导前端；Python 在后端和数据处理领域更强大。  \n",
    "3. **Python vs C++**  \n",
    "   - C++ 性能极致，适合系统底层开发；Python 专注高层逻辑和快速实现。  \n",
    "4. **Python vs Go**  \n",
    "   - Go 以高并发和编译速度见长；Python 生态更成熟，适合数据分析和脚本任务。  \n",
    "\n",
    "---\n",
    "\n",
    "### **四、Python 的适用场景**\n",
    "1. **数据科学与人工智能**  \n",
    "   - 库：`NumPy`、`Pandas`、`TensorFlow`、`PyTorch`。  \n",
    "2. **Web 开发**  \n",
    "   - 框架：`Django`（全栈）、`Flask`（轻量级）、`FastAPI`（高性能 API）。  \n",
    "3. **自动化与脚本**  \n",
    "   - 文件处理、爬虫（`Scrapy`）、运维脚本（`Ansible`）。  \n",
    "4. **教育与科研**  \n",
    "   - 快速验证算法、绘制图表（`Matplotlib`）。  \n",
    "\n",
    "---\n",
    "\n",
    "### **五、总结**\n",
    "- **选择 Python 时**：优先考虑开发效率、生态丰富性和快速原型设计，适合中小型项目、数据驱动型任务或需要快速迭代的场景。  \n",
    "- **避免 Python 时**：对性能要求极高（如游戏引擎）、需要精细内存控制（如嵌入式系统）或强类型安全的大型项目。  \n",
    "\n",
    "Python 的哲学是 **“简单优于复杂”**，它在易用性和功能强大之间找到了平衡，成为现代开发者的首选语言之一。"
   ]
  },
  {
   "cell_type": "markdown",
   "metadata": {},
   "source": [
    "### 32.怎么理解有序和无序\n",
    "\n",
    "\n",
    " **1. 有序（Ordered）**\n",
    "#### **定义**  \n",
    "数据元素的**顺序是明确且可预测的**，元素的存储位置与插入顺序或某种规则相关，可以通过索引（位置）直接访问。\n",
    "\n",
    "#### **特点**  \n",
    "- **元素顺序固定**：插入顺序或按某种规则（如排序）排列。  \n",
    "- **支持索引访问**：例如 `list[0]` 表示第一个元素。  \n",
    "- **允许重复元素**（取决于具体结构）。  \n",
    "\n",
    "#### **示例**  \n",
    "- **Python**：列表（`list`）、元组（`tuple`）、字符串（`str`）。  \n",
    "- **其他语言**：数组（如 Java 的 `ArrayList`）、链表（如 C++ 的 `std::list`）。\n",
    "\n",
    "#### **应用场景**  \n",
    "- 需要按顺序处理数据（如日志记录、时间序列数据）。  \n",
    "- 需要频繁通过位置访问或修改元素（如 `list.pop(0)`）。  \n",
    "\n",
    "---\n",
    "\n",
    "**2. 无序（Unordered）**\n",
    "#### **定义**  \n",
    "数据元素的**顺序不可预测或不重要**，元素的存储位置由哈希或散列机制决定，无法通过索引直接访问。\n",
    "\n",
    "#### **特点**  \n",
    "- **元素顺序不固定**：插入顺序可能不等于存储顺序。  \n",
    "- **不支持索引访问**：只能通过键（`key`）或遍历访问元素。  \n",
    "- **元素唯一性**（如集合 `set` 会自动去重）。  \n",
    "\n",
    "#### **示例**  \n",
    "- **Python**：集合（`set`）、字典（`dict`，Python 3.7+ 保留插入顺序，但逻辑上仍视为“无序”）。  \n",
    "- **其他语言**：哈希表（如 Java 的 `HashMap`）、无序集合（如 C++ 的 `unordered_set`）。  \n",
    "\n",
    "#### **应用场景**  \n",
    "- 快速查找或去重（如检查元素是否存在）。  \n",
    "- 不需要关注顺序的键值对存储（如配置参数）。  \n",
    "\n",
    "---\n",
    "\n",
    " **3. 核心区别**\n",
    "| **特性**       | **有序结构**               | **无序结构**               |\n",
    "|----------------|---------------------------|---------------------------|\n",
    "| **顺序**       | 明确（如插入顺序或排序）   | 不可预测                  |\n",
    "| **索引访问**   | 支持（如 `list[0]`）       | 不支持                   |\n",
    "| **查找效率**   | 低（需遍历或二分查找）     | 高（哈希表直接定位）      |\n",
    "| **内存占用**   | 较高（需维护顺序）         | 较低                     |\n",
    "| **典型应用**   | 日志、队列、排序数据       | 缓存、去重、快速查找      |\n",
    "\n",
    "---\n"
   ]
  },
  {
   "cell_type": "markdown",
   "metadata": {},
   "source": [
    "### 33. 静态方法\n",
    "静态方法（Static Method）是一种定义在类中的方法，但它不依赖于类的实例（self）或类本身（cls）。静态方法更像是普通的函数，只是被“收纳”在类的命名空间中，用于逻辑归类。以下是详细解释：\n",
    "\n",
    "无需隐式参数：不需要传递 self（实例）或 cls（类）作为第一个参数。\n",
    "\n",
    "逻辑归属：通常用于实现与类相关但无需访问类或实例状态的功能。\n",
    "\n",
    "调用方式：可通过类直接调用，也可通过实例调用（但推荐通过类调用以明确其静态性）。\n",
    "\n",
    "\n",
    "\n",
    "**静态方法 vs 实例方法 vs 类方法**\n",
    "| **方法类型**   | **装饰器**      | **第一个参数** | **访问实例属性** | **访问类属性** | **典型用途**                 |\n",
    "|----------------|----------------|---------------|------------------|----------------|----------------------------|\n",
    "| **实例方法**   | 无             | `self`        | ✅               | ✅（通过 `self`） | 操作实例数据                |\n",
    "| **类方法**     | `@classmethod` | `cls`         | ❌               | ✅              | 操作类属性或创建工厂方法    |\n",
    "| **静态方法**   | `@staticmethod`| 无            | ❌               | ❌              | 工具函数或逻辑分组          |\n",
    "\n",
    "\n"
   ]
  },
  {
   "cell_type": "code",
   "execution_count": 7,
   "metadata": {},
   "outputs": [
    {
     "name": "stdout",
     "output_type": "stream",
     "text": [
      "5\n",
      "6\n"
     ]
    }
   ],
   "source": [
    "class MathUtils:\n",
    "    @staticmethod\n",
    "    def add(a, b):\n",
    "        return a + b\n",
    "\n",
    "    @staticmethod\n",
    "    def multiply(a, b):\n",
    "        return a * b\n",
    "\n",
    "# 调用\n",
    "print(MathUtils.add(2, 3))      # 输出 5\n",
    "print(MathUtils.multiply(2, 3)) # 输出 6"
   ]
  },
  {
   "cell_type": "markdown",
   "metadata": {},
   "source": [
    "### 34. enumerate\n",
    "enumerate 是 Python 中的一个内置函数，用于在遍历可迭代对象（如列表、元组、字符串等）时，同时获取元素的索引和值。"
   ]
  },
  {
   "cell_type": "code",
   "execution_count": 2,
   "metadata": {},
   "outputs": [
    {
     "name": "stdout",
     "output_type": "stream",
     "text": [
      "0 1\n",
      "1 2\n",
      "2 3\n"
     ]
    }
   ],
   "source": [
    "a= [1,2,3]\n",
    "for index ,value in enumerate(a):\n",
    "    print(index,value)"
   ]
  },
  {
   "cell_type": "markdown",
   "metadata": {},
   "source": [
    "### 35.简述python的字符产编码\n",
    "Python 的字符串编码涉及字符与字节的转换，核心要点如下：\n",
    "\n",
    "---\n",
    "\n",
    "**1. 字符串类型**\n",
    "- **`str`**：表示 **Unicode 字符序列**（如 `\"你好\"`），内部以 Unicode 存储。\n",
    "- **`bytes`**：表示 **原始字节序列**（如 `b'\\xe4\\xbd\\xa0\\xe5\\xa5\\xbd'`），不直接可读。\n",
    "\n",
    "---\n",
    "\n",
    "**2. 编码与解码**\n",
    "- **编码（Encode）**：将 `str` 转换为 `bytes`（字符 → 字节）。\n",
    "  ```python\n",
    "  text = \"你好\"\n",
    "  bytes_data = text.encode(\"utf-8\")  # 输出 b'\\xe4\\xbd\\xa0\\xe5\\xa5\\xbd'\n",
    "  ```\n",
    "- **解码（Decode）**：将 `bytes` 转换为 `str`（字节 → 字符）。\n",
    "  ```python\n",
    "  bytes_data = b'\\xe4\\xbd\\xa0\\xe5\\xa5\\xbd'\n",
    "  text = bytes_data.decode(\"utf-8\")  # 输出 \"你好\"\n",
    "  ```\n",
    "\n",
    "---\n",
    "\n",
    "**3. 常见编码方式**\n",
    "- **UTF-8**：Python 3 默认编码，兼容 ASCII，支持多语言（推荐使用）。\n",
    "- **ASCII**：仅支持英文字符（0-127），无法表示中文。\n",
    "- **GBK/GB2312**：中文编码标准，部分场景（如旧系统）仍需处理。\n",
    "- **Latin-1**：支持西欧语言，覆盖 0-255 的字符。\n",
    "\n",
    "---\n",
    "\n",
    "**4. 编码错误处理**\n",
    "- 编解码时遇到无法转换的字符可指定 `errors` 参数：\n",
    "  ```python\n",
    "  # 忽略错误字符\n",
    "  \"abc®\".encode(\"ascii\", errors=\"ignore\")  # b'abc'\n",
    "  \n",
    "  # 替换为占位符\n",
    "  \"abc®\".encode(\"ascii\", errors=\"replace\")  # b'abc?'\n",
    "  ```\n",
    "\n",
    "---\n",
    "\n",
    "**5. 文件操作与编码**\n",
    "- 读写文件时需明确指定编码：\n",
    "  ```python\n",
    "  with open(\"file.txt\", \"r\", encoding=\"utf-8\") as f:\n",
    "      text = f.read()\n",
    "  \n",
    "  with open(\"file.txt\", \"w\", encoding=\"gbk\") as f:\n",
    "      f.write(\"你好\")\n",
    "  ```\n",
    "\n",
    "---\n",
    "\n",
    "**6. 关键原则**\n",
    "1. **明确区分 `str` 和 `bytes`**：操作前确认数据类型。\n",
    "2. **统一使用 UTF-8**：减少编码冲突（可在代码文件开头添加 `# -*- coding: utf-8 -*-`）。\n",
    "3. **处理外部数据时验证编码**：如网络请求、数据库读取可能隐含编码问题。\n",
    "\n",
    "---\n",
    "\n",
    "**常见错误示例**\n",
    "- **`UnicodeEncodeError`**：尝试将非 ASCII 字符编码为 ASCII。\n",
    "- **`UnicodeDecodeError`**：用错误编码解码字节序列（如用 `utf-8` 解码 `gbk` 数据）。\n",
    "\n"
   ]
  },
  {
   "cell_type": "markdown",
   "metadata": {},
   "source": [
    "### 36.randn(), rand()，randint()\n",
    "- rand(shape) ：生成 [0, 1) 区间内的随机浮点数（左闭右开）\n",
    "- randn(shape)：标准正态分布，均值为 0，标准差为 1，理论上可能生成任意实数，但 99.7% 的值落在 [-3, 3] 之间\n",
    "\n",
    "\n",
    "#### **1. 基础随机数生成**\n",
    "| 函数                     | 用途                          | 示例                                 |\n",
    "|--------------------------|-------------------------------|--------------------------------------|\n",
    "| `random()`               | 生成 `[0.0, 1.0)` 的随机浮点数 | `random.random() → 0.5488`           |\n",
    "| `uniform(a, b)`          | 生成 `[a, b]` 的均匀分布浮点数 | `random.uniform(2, 5) → 3.72`        |\n",
    "| `randint(a, b)`          | 生成 `[a, b]` 的随机整数       | `random.randint(1, 10) → 7`          |\n",
    "| `randrange(start, stop)` | 生成 `range(start, stop)` 的随机整数 | `random.randrange(0, 10, 2) → 4` |\n",
    "\n",
    "#### **2. 序列操作**\n",
    "| 函数                     | 用途                          | 示例                                 |\n",
    "|--------------------------|-------------------------------|--------------------------------------|\n",
    "| `choice(seq)`            | 从序列中随机选择一个元素       | `random.choice([1, 2, 3]) → 2`      |\n",
    "| `shuffle(seq)`           | 原地打乱序列顺序               | `shuffle([1, 2, 3]) → [3, 1, 2]`    |\n",
    "| `sample(seq, k)`         | 从序列中无放回抽样 `k` 个元素  | `sample([1,2,3], 2) → [3, 1]`       |\n",
    "\n",
    "#### **3. 概率分布**\n",
    "| 函数                     | 分布类型       | 示例                                 |\n",
    "|--------------------------|----------------|--------------------------------------|\n",
    "| `gauss(mu, sigma)`       | 高斯分布（正态分布） | `random.gauss(0, 1) → 0.329`    |\n",
    "| `expovariate(lambd)`     | 指数分布        | `random.expovariate(1.5) → 0.432`    |\n",
    "| `betavariate(alpha, beta)` | Beta 分布    | `random.betavariate(2, 5) → 0.37`    |\n",
    "\n",
    "---\n",
    "\n",
    "**二、NumPy 的 `random` 模块**\n",
    "\n",
    "\n",
    "#### **1. 基础随机数生成**\n",
    "| 函数                     | 用途                          | 示例                                 |\n",
    "|--------------------------|-------------------------------|--------------------------------------|\n",
    "| `rand(d0, d1, ..., dn)`  | 生成 `[0,1)` 均匀分布的数组    | `np.random.rand(2,3) → [[0.1,0.2,0.3],[0.4,0.5,0.6]]` |\n",
    "| `randn(d0, d1, ..., dn)` | 生成标准正态分布的数组（μ=0, σ=1） | `np.random.randn(2) → [0.5, -1.3]` |\n",
    "| `randint(low, high, size)` | 生成指定范围的整数数组       | `np.random.randint(0, 10, (2,2)) → [[3,7],[2,8]]` |\n",
    "\n",
    "#### **2. 概率分布生成**\n",
    "| 函数                     | 分布类型       | 示例                                 |\n",
    "|--------------------------|----------------|--------------------------------------|\n",
    "| `normal(loc, scale, size)` | 正态分布      | `np.random.normal(5, 2, 3) → [4.1, 6.7, 5.3]` |\n",
    "| `uniform(low, high, size)` | 均匀分布      | `np.random.uniform(1, 5, 3) → [2.3, 4.8, 1.9]` |\n",
    "| `poisson(lam, size)`       | 泊松分布      | `np.random.poisson(3, 5) → [2,4,3,1,5]` |\n",
    "| `binomial(n, p, size)`     | 二项分布      | `np.random.binomial(10, 0.5, 3) → [6,5,4]` |\n",
    "\n",
    "#### **3. 高级功能**\n",
    "| 函数                     | 用途                          | 示例                                 |\n",
    "|--------------------------|-------------------------------|--------------------------------------|\n",
    "| `shuffle(arr)`           | 原地打乱数组顺序               | `arr = [1,2,3]; np.random.shuffle(arr) → [3,1,2]` |\n",
    "| `permutation(arr)`       | 生成数组的随机排列副本         | `np.random.permutation([1,2,3]) → [2,3,1]` |\n",
    "| `seed(s)`                | 设置随机种子（确保结果可复现） | `np.random.seed(42)`                 |\n",
    "\n",
    "---\n",
    "\n",
    "\n"
   ]
  },
  {
   "cell_type": "code",
   "execution_count": null,
   "metadata": {},
   "outputs": [
    {
     "name": "stdout",
     "output_type": "stream",
     "text": [
      "6\n"
     ]
    }
   ],
   "source": [
    "import random\n",
    "# 随机生成 1-10 之间的一个随机数\n",
    "a = random.randint(1,10)\n",
    "print(a)"
   ]
  },
  {
   "cell_type": "markdown",
   "metadata": {},
   "source": [
    "### 37.filter, map, reduce 的作用"
   ]
  },
  {
   "cell_type": "markdown",
   "metadata": {},
   "source": [
    "1. filter(function, iterable)\n",
    "- 根据指定函数的返回值（True/False）过滤可迭代对象，保留符合条件的元素。\n",
    "- 返回一个迭代器（Python 3 中需用 list() 转换为列表）。\n",
    "若 function 为 None，则过滤掉值为 False 的元素（如 0、\"\"、None）"
   ]
  },
  {
   "cell_type": "code",
   "execution_count": null,
   "metadata": {},
   "outputs": [],
   "source": [
    "numbers = [1, 2, 3, 4, 5, 6]\n",
    "# 保留偶数\n",
    "even = filter(lambda x: x % 2 == 0, numbers)\n",
    "print(list(even))  # 输出: [2, 4, 6]\n",
    "\n",
    "# 过滤掉空字符串\n",
    "words = [\"hello\", \"\", \"world\", None, \" \"]\n",
    "non_empty = filter(None, words)\n",
    "print(list(non_empty))  # 输出: ['hello', 'world', ' ']"
   ]
  },
  {
   "cell_type": "markdown",
   "metadata": {},
   "source": [
    "2. map(function, iterable, ...)\n",
    "- 作用\n",
    "\n",
    "对可迭代对象中的每个元素应用指定函数，返回处理后的结果。\n",
    "\n",
    "- 特点\n",
    "\n",
    "支持多个可迭代对象（并行处理）。\n",
    "返回一个迭代器（Python 3 中需用 list() 转换为列表）。"
   ]
  },
  {
   "cell_type": "code",
   "execution_count": 7,
   "metadata": {},
   "outputs": [
    {
     "name": "stdout",
     "output_type": "stream",
     "text": [
      "[1, 4, 9]\n",
      "[5, 7, 9]\n"
     ]
    }
   ],
   "source": [
    "numbers = [1, 2, 3]\n",
    "# 每个元素平方\n",
    "squared = map(lambda x: x ** 2, numbers)\n",
    "print(list(squared))  # 输出: [1, 4, 9]\n",
    "\n",
    "# 并行处理两个列表\n",
    "a = [1, 2, 3]\n",
    "b = [4, 5, 6]\n",
    "sum_ab = map(lambda x, y: x + y, a, b)\n",
    "print(list(sum_ab))  # 输出: [5, 7, 9]"
   ]
  },
  {
   "cell_type": "markdown",
   "metadata": {},
   "source": [
    "3. reduce(function, iterable, [initializer])\n",
    "- 作用\n",
    "对可迭代对象中的元素累积应用指定函数，最终返回一个聚合结果。\n",
    "\n",
    "- 特点\n",
    "需从 functools 导入（Python 3 中不再是内置函数）。\n",
    "function 必须接收两个参数（当前累积值和下一个元素）。\n",
    "initializer 为可选初始值（若可迭代对象为空，则返回该值）。"
   ]
  },
  {
   "cell_type": "code",
   "execution_count": 8,
   "metadata": {},
   "outputs": [
    {
     "name": "stdout",
     "output_type": "stream",
     "text": [
      "10\n",
      "120\n"
     ]
    }
   ],
   "source": [
    "from functools import reduce\n",
    "\n",
    "numbers = [1, 2, 3, 4]\n",
    "# 计算累加和\n",
    "sum_all = reduce(lambda acc, x: acc + x, numbers)\n",
    "print(sum_all)  # 输出: 10\n",
    "\n",
    "# 计算阶乘（5! = 120）\n",
    "factorial = reduce(lambda acc, x: acc * x, range(1, 6), 1)\n",
    "print(factorial)  # 输出: 120"
   ]
  },
  {
   "cell_type": "markdown",
   "metadata": {},
   "source": [
    "### 38.with方式打开文件的作用\n",
    "一、with 语句的核心作用\n",
    "1. 自动资源管理\n",
    "文件关闭保障：无论代码块是否发生异常，with 语句会在执行完毕后自动调用文件的 close() 方法，释放系统资源。\n",
    "\n",
    "防止资源泄漏：避免因未关闭文件导致内存占用或文件锁定的问题。\n",
    "\n",
    "2. 代码简洁性\n",
    "无需显式写 close()，减少冗余代码，逻辑更清晰。\n",
    "\n",
    "3. 异常安全性\n",
    "即使在文件操作过程中抛出异常（如读写错误），with 也会确保文件被正确关闭"
   ]
  },
  {
   "cell_type": "markdown",
   "metadata": {},
   "source": [
    "### 39. 面向对象中new 和 init的区别\n",
    "\n",
    "\n",
    "**1. 核心职责**\n",
    "| 方法          | 作用                                                                 | 类比                             |\n",
    "|---------------|----------------------------------------------------------------------|----------------------------------|\n",
    "| **`__new__`** | **创建对象**：负责分配内存并返回一个新实例（通常不修改实例属性）。    | 相当于“建房”（分配土地和建筑结构） |\n",
    "| **`__init__`**| **初始化对象**：负责设置实例的初始状态（如属性赋值）。                | 相当于“装修”（布置家具和装饰）     |\n",
    "\n",
    "---\n",
    "\n",
    " **2. 调用时机**\n",
    "```python\n",
    "class MyClass:\n",
    "    def __new__(cls, *args, **kwargs):\n",
    "        print(\"__new__ 被调用\")\n",
    "        return super().__new__(cls)  # 必须返回实例\n",
    "    \n",
    "    def __init__(self, value):\n",
    "        print(\"__init__ 被调用\")\n",
    "        self.value = value\n",
    "\n",
    "obj = MyClass(10)\n",
    "```\n",
    "**输出**：\n",
    "```\n",
    "__new__ 被调用\n",
    "__init__ 被调用\n",
    "```\n",
    "- **`__new__`** 在实例创建时**最先调用**，必须返回一个实例（通常调用父类的 `__new__`）。\n",
    "- **`__init__`** 在 `__new__` 返回实例后调用，**无需返回值**。\n",
    "\n",
    "---\n",
    "\n",
    "**3. 参数差异**\n",
    "| 方法          | 第一个参数      | 其他参数传递规则                          |\n",
    "|---------------|----------------|------------------------------------------|\n",
    "| **`__new__`** | `cls`（类本身） | 接收创建对象时传入的所有参数（`*args, **kwargs`） |\n",
    "| **`__init__`**| `self`（实例）  | 接收初始化时传入的参数（通常与 `__new__` 一致）   |\n",
    "\n",
    "---\n",
    "\n",
    "**4. 使用场景对比**\n",
    "**`__new__` 的典型用途**\n",
    "1. **控制实例创建**（如单例模式）：\n",
    "   ```python\n",
    "   class Singleton:\n",
    "       _instance = None\n",
    "       def __new__(cls):\n",
    "           if cls._instance is None:\n",
    "               cls._instance = super().__new__(cls)\n",
    "           return cls._instance\n",
    "   \n",
    "   a = Singleton()\n",
    "   b = Singleton()\n",
    "   print(a is b)  # 输出: True（始终返回同一实例）\n",
    "   ```\n",
    "2. **返回其他类的实例**（工厂模式）：\n",
    "   ```python\n",
    "   class Animal:\n",
    "       def __new__(cls, animal_type):\n",
    "           if animal_type == \"dog\":\n",
    "               return Dog()\n",
    "           elif animal_type == \"cat\":\n",
    "               return Cat()\n",
    "           return super().__new__(cls)\n",
    "   ```\n",
    "\n",
    "**`__init__` 的典型用途**\n",
    "- **初始化实例属性**：\n",
    "  ```python\n",
    "  class Person:\n",
    "      def __init__(self, name, age):\n",
    "          self.name = name\n",
    "          self.age = age\n",
    "  \n",
    "  p = Person(\"Alice\", 25)  # 自动调用 __init__\n",
    "  ```\n",
    "\n",
    "---\n",
    "\n",
    "**5. 关键区别总结**\n",
    "| **特性**         | **`__new__`**                          | **`__init__`**                        |\n",
    "|------------------|----------------------------------------|---------------------------------------|\n",
    "| **调用顺序**     | 先执行（创建实例）                     | 后执行（初始化实例）                   |\n",
    "| **返回值**       | 必须返回实例（通常是 `cls` 的实例）     | 无返回值（仅修改 `self` 状态）         |\n",
    "| **是否必需**     | 不显式定义时默认调用父类的 `__new__`   | 可选，若定义则用于初始化               |\n",
    "| **修改实例**     | 通常不修改实例属性                     | 主要用来设置实例属性                   |\n",
    "| **应用场景**     | 单例模式、不可变类型子类化、工厂模式    | 常规对象初始化                         |\n",
    "\n",
    "---\n",
    "\n",
    "**6. 常见问题**\n",
    "#### **Q：为什么 `__new__` 的第一个参数是 `cls`，而 `__init__` 是 `self`？**\n",
    "- **`__new__`** 是类方法（即使未用 `@classmethod` 装饰），因为它需要操作类本身来创建实例。\n",
    "- **`__init__`** 是实例方法，操作已创建的实例（`self`）。\n",
    "\n",
    "#### **Q：可以只定义 `__new__` 而不定义 `__init__` 吗？**\n",
    "- **可以**，但通常不推荐。此时实例的属性初始化需要在 `__new__` 中完成（违反职责分离原则）。\n",
    "\n",
    "#### **Q：如何阻止 `__init__` 被调用？**\n",
    "- 在 `__new__` 中返回非当前类的实例时，`__init__` 不会触发：\n",
    "  ```python\n",
    "  class Foo:\n",
    "      def __new__(cls):\n",
    "          return \"Hello\"  # 返回字符串而非 Foo 实例\n",
    "  \n",
    "  obj = Foo()\n",
    "  print(obj)          # 输出: \"Hello\"\n",
    "  print(type(obj))    # 输出: <class 'str'>\n",
    "  ```\n",
    "\n",
    "---\n",
    "\n",
    "### **7. 实际应用示例**\n",
    "#### **不可变类型的子类化**\n",
    "```python\n",
    "class UpperStr(str):  # 继承不可变类型 str\n",
    "    def __new__(cls, value):\n",
    "        return super().__new__(cls, value.upper())\n",
    "\n",
    "s = UpperStr(\"hello\")\n",
    "print(s)  # 输出: \"HELLO\"\n",
    "```\n",
    "- 不可变类型（如 `str`、`tuple`）的修改必须在 `__new__` 中完成，因为 `__init__` 无法修改它们。\n",
    "\n",
    "---\n",
    "\n"
   ]
  },
  {
   "cell_type": "markdown",
   "metadata": {},
   "source": [
    "### 40.简述闭包\n",
    "闭包（Closure）是函数式编程中的一个核心概念，指 一个函数（称为外层函数）内部定义了另一个函数（称为内层函数），且内层函数引用了外层函数的局部变量或参数。当外层函数执行完毕后，这些被引用的变量仍能被内层函数访问\n",
    "- 闭包的核心特点：\n",
    "1. 函数嵌套：外层函数包裹内层函数。\n",
    "\n",
    "2. 变量捕获：内层函数引用外层函数的变量（称为自由变量）。\n",
    "\n",
    "3. 变量持久化：外层函数执行结束后，其局部变量仍被内层函数保留。"
   ]
  },
  {
   "cell_type": "code",
   "execution_count": 9,
   "metadata": {},
   "outputs": [
    {
     "name": "stdout",
     "output_type": "stream",
     "text": [
      "1 2 3\n"
     ]
    }
   ],
   "source": [
    "def counter():\n",
    "    count = 0\n",
    "    def increment():\n",
    "        nonlocal count  # 声明为非局部变量\n",
    "        count += 1\n",
    "        return count\n",
    "    return increment\n",
    "\n",
    "c = counter()\n",
    "print(c(), c(), c())  # 输出: 1 2 3"
   ]
  },
  {
   "cell_type": "markdown",
   "metadata": {},
   "source": [
    "### 41.字典和json的转换\n",
    "一、字典 → JSON\n",
    "1. 使用 json.dumps()\n",
    "将 Python 字典转换为 JSON 格式的字符串："
   ]
  },
  {
   "cell_type": "code",
   "execution_count": null,
   "metadata": {},
   "outputs": [
    {
     "name": "stdout",
     "output_type": "stream",
     "text": [
      "{\"name\": \"Alice\", \"age\": 30, \"skills\": [\"Python\", \"SQL\"], \"is_active\": true}\n"
     ]
    }
   ],
   "source": [
    "import json\n",
    "\n",
    "data = {\n",
    "    \"name\": \"Alice\",\n",
    "    \"age\": 30,\n",
    "    \"skills\": [\"Python\", \"SQL\"],\n",
    "    \"is_active\": True\n",
    "}\n",
    "\n",
    "\n",
    "json_str = json.dumps(data)  # 转换为JSON字符串\n",
    "print(json_str)\n",
    "# 输出: {\"name\": \"Alice\", \"age\": 30, \"skills\": [\"Python\", \"SQL\"], \"is_active\": true}"
   ]
  },
  {
   "cell_type": "markdown",
   "metadata": {},
   "source": [
    "2. 参数定制"
   ]
  },
  {
   "cell_type": "code",
   "execution_count": null,
   "metadata": {},
   "outputs": [
    {
     "name": "stdout",
     "output_type": "stream",
     "text": [
      "{\n",
      "    \"age\": 30,\n",
      "    \"is_active\": true,\n",
      "    \"name\": \"Alice\",\n",
      "    \"skills\": [\n",
      "        \"Python\",\n",
      "        \"SQL\"\n",
      "    ]\n",
      "}\n"
     ]
    }
   ],
   "source": [
    "# 缩进美化：indent 参数使 JSON 更易读。\n",
    "# 键排序：sort_keys 参数对键名排序。\n",
    "# 自定义编码：default 参数处理不可序列化对象（如日期）。\n",
    "json_str_pretty = json.dumps(data, indent=4, sort_keys=True)\n",
    "print(json_str_pretty)"
   ]
  },
  {
   "cell_type": "markdown",
   "metadata": {},
   "source": [
    "3. 写入文件\n",
    "使用 json.dump() 直接写入文件："
   ]
  },
  {
   "cell_type": "code",
   "execution_count": null,
   "metadata": {},
   "outputs": [],
   "source": [
    "with open(\"data.json\", \"w\", encoding=\"utf-8\") as f:\n",
    "    json.dump(data, f, indent=4)  # 写入格式化后的JSON文件"
   ]
  },
  {
   "cell_type": "markdown",
   "metadata": {},
   "source": [
    "二、JSON → 字典\n",
    "1. 使用 json.loads()\n",
    "\n",
    "将 JSON 字符串解析为 Python 字典："
   ]
  },
  {
   "cell_type": "code",
   "execution_count": 13,
   "metadata": {},
   "outputs": [
    {
     "name": "stdout",
     "output_type": "stream",
     "text": [
      "{'name': 'Bob', 'age': 25, 'is_student': False}\n"
     ]
    }
   ],
   "source": [
    "json_str = '{\"name\": \"Bob\", \"age\": 25, \"is_student\": false}'\n",
    "data_dict = json.loads(json_str)\n",
    "print(data_dict)\n",
    "# 输出: {'name': 'Bob', 'age': 25, 'is_student': False}"
   ]
  },
  {
   "cell_type": "markdown",
   "metadata": {},
   "source": [
    "2. 从文件读取\n",
    "使用 json.load() 从文件读取并转为字典："
   ]
  },
  {
   "cell_type": "code",
   "execution_count": null,
   "metadata": {},
   "outputs": [],
   "source": [
    "with open(\"data.json\", \"r\", encoding=\"utf-8\") as f:\n",
    "    data_from_file = json.load(f)\n",
    "print(data_from_file[\"name\"])  # 输出: Alice"
   ]
  },
  {
   "cell_type": "markdown",
   "metadata": {},
   "source": [
    "### 42.单下划线和双下划线的作用\n",
    "在 Python 中，单下划线（`_`）和双下划线（`__`）的使用具有特殊的约定或功能，主要涉及变量命名、方法访问控制和名称修饰（Name Mangling）。以下是它们的详细作用及区别：\n",
    "\n",
    "---\n",
    "\n",
    "**一、单下划线 `_` 的用途**\n",
    "#### **1. 临时或无关变量**\n",
    "- 表示变量是临时的或无需使用的（如循环中的占位符）。\n",
    "  ```python\n",
    "  for _ in range(3):\n",
    "      print(\"Hello\")  # 忽略循环变量\n",
    "\n",
    "  # 解构赋值时忽略部分值\n",
    "  x, _, y = (1, 2, 3)  # _ 表示忽略第二个值\n",
    "  ```\n",
    "\n",
    "#### **2. 模块中的私有约定**\n",
    "- 在模块中，以单下划线开头的变量/函数/方法表示 **“内部使用”**（非强制私有，仅为约定）。\n",
    "  ```python\n",
    "  # module.py\n",
    "  _internal_var = 10  # 暗示该变量不应被外部直接使用\n",
    "\n",
    "  def public_func():\n",
    "      return _internal_var\n",
    "\n",
    "  def _private_helper():  # 暗示为模块内部方法\n",
    "      pass\n",
    "  ```\n",
    "  - **注意**：`from module import *` 不会导入 `_` 开头的名称（除非在 `__all__` 中显式定义）。\n",
    "\n",
    "#### **3. 交互式解释器的特殊变量**\n",
    "- 在 Python REPL 中，`_` 存储最后一次执行的表达式结果：\n",
    "  ```python\n",
    "  >>> 3 + 4\n",
    "  7\n",
    "  >>> _ + 2\n",
    "  9\n",
    "  ```\n",
    "\n",
    "#### **4. 国际化（i18n）中的翻译函数**\n",
    "- 某些框架（如 gettext）用 `_` 作为翻译函数的别名：\n",
    "  ```python\n",
    "  _ = gettext.gettext\n",
    "  print(_(\"Hello World\"))  # 返回对应语言的翻译\n",
    "  ```\n",
    "\n",
    "---\n",
    "\n",
    "**二、双下划线 `__` 的用途**\n",
    "#### **1. 名称修饰（Name Mangling）**\n",
    "- **类属性/方法前加双下划线**：Python 会对其重命名（格式：`_ClassName__name`），避免子类命名冲突。\n",
    "  ```python\n",
    "  class MyClass:\n",
    "      def __init__(self):\n",
    "          self.__private_var = 42  # 实际变为 _MyClass__private_var\n",
    "\n",
    "      def __private_method(self):  # 实际变为 _MyClass__private_method\n",
    "          return \"Secret\"\n",
    "\n",
    "  obj = MyClass()\n",
    "  print(obj.__dict__)  # 输出: {'_MyClass__private_var': 42}\n",
    "  # obj.__private_method()  # 报错：AttributeError\n",
    "  print(obj._MyClass__private_method())  # 输出: \"Secret\"（但仍可强制访问）\n",
    "  ```\n",
    "  - **本质**：非真正的私有化，而是通过名称修饰避免意外覆盖。\n",
    "\n",
    "#### **2. 魔术方法（Magic Methods）**\n",
    "- 双下划线包围的方法（如 `__init__`、`__str__`）是 Python 的特殊方法，用于运算符重载或类行为定制。\n",
    "  ```python\n",
    "  class Vector:\n",
    "      def __init__(self, x, y):\n",
    "          self.x = x\n",
    "          self.y = y\n",
    "\n",
    "      def __add__(self, other):  # 重载 + 运算符\n",
    "          return Vector(self.x + other.x, self.y + other.y)\n",
    "  ```\n",
    "\n"
   ]
  },
  {
   "cell_type": "markdown",
   "metadata": {},
   "source": [
    "### 43.python中面向对象继承的特点\n",
    "受保护成员：单下划线 _var（约定私有，仍可访问）。\n",
    "\n",
    "名称修饰：双下划线 __var（变为 _ClassName__var，避免子类冲突）。\n",
    "\n",
    " **Python 继承的核心优势**\n",
    "| **特性**         | **说明**                                                                 |\n",
    "|------------------|--------------------------------------------------------------------------|\n",
    "| **多继承**       | 灵活组合多个父类的功能，需注意 MRO 顺序                                  |\n",
    "| **动态性**       | 支持运行时修改继承关系（如 `__bases__`）                                 |\n",
    "| **鸭子类型**     | 不强制依赖继承，关注对象行为                                             |\n",
    "| **super()**      | 安全调用父类方法，避免硬编码                                             |\n",
    "| **抽象基类**     | 通过 `abc` 模块强制接口实现                                              |\n"
   ]
  },
  {
   "cell_type": "code",
   "execution_count": null,
   "metadata": {},
   "outputs": [],
   "source": [
    "# 1. 单继承与多继承\n",
    "class Animal:\n",
    "    def speak(self):\n",
    "        print(\"Animal sound\")\n",
    "\n",
    "class Dog(Animal):  # 单继承\n",
    "    pass\n",
    "\n",
    "\n",
    "\n",
    "class Flyable:\n",
    "    def fly(self):\n",
    "        print(\"Flying\")\n",
    "\n",
    "class Bird(Animal, Flyable):  # 多继承\n",
    "    pass\n"
   ]
  },
  {
   "cell_type": "markdown",
   "metadata": {},
   "source": [
    "2. 方法解析顺序（MRO，Method Resolution Order）\n",
    "\n",
    "作用：在多继承中确定方法的调用顺序，避免钻石继承问题（Diamond Problem）。\n",
    "\n",
    "C3 线性算法：Python 使用该算法生成 MRO 列表，通过 类名.__mro__ 查看。\n",
    "\n",
    "3. 方法重写（Override）\n",
    "子类可重写父类的方法或属性，优先调用子类实现。"
   ]
  },
  {
   "cell_type": "code",
   "execution_count": 14,
   "metadata": {},
   "outputs": [
    {
     "name": "stdout",
     "output_type": "stream",
     "text": [
      "Meow\n"
     ]
    }
   ],
   "source": [
    "class Animal:\n",
    "    def speak(self):\n",
    "        print(\"Animal sound\")\n",
    "\n",
    "class Cat(Animal):\n",
    "    def speak(self):  # 重写父类方法\n",
    "        print(\"Meow\")\n",
    "\n",
    "cat = Cat()\n",
    "cat.speak()  # 输出: Meow"
   ]
  },
  {
   "cell_type": "markdown",
   "metadata": {},
   "source": [
    "4. super() 函数\n",
    "作用：调用父类的方法，避免硬编码父类名（尤其在多继承中）。"
   ]
  },
  {
   "cell_type": "code",
   "execution_count": null,
   "metadata": {},
   "outputs": [],
   "source": [
    "class Parent:\n",
    "    def __init__(self, name):\n",
    "        self.name = name\n",
    "\n",
    "class Child(Parent):\n",
    "    def __init__(self, name, age):\n",
    "        super().__init__(name)  # 调用 Parent.__init__\n",
    "        self.age = age"
   ]
  },
  {
   "cell_type": "markdown",
   "metadata": {},
   "source": [
    "### 44. super函数作用\n",
    "一、super() 的核心作用\n",
    "- 调用父类方法\n",
    "在子类中调用父类的同名方法（如 __init__、自定义方法等），避免直接引用父类名。\n",
    "\n",
    "- 支持多继承\n",
    "按照 方法解析顺序（MRO） 自动确定下一个要调用的父类，避免钻石继承问题。\n",
    "\n",
    "- 代码解耦\n",
    "减少父类名称的硬编码，父类修改时无需调整子类代码。"
   ]
  },
  {
   "cell_type": "markdown",
   "metadata": {},
   "source": [
    "### 45.类中各种函数的作用\n",
    "在面向对象编程中，类中的函数（方法）承担不同的职责，以下是各类函数的作用及示例：\n",
    "\n",
    "---\n",
    "\n",
    "### 1. **构造函数（Constructor）**\n",
    "- **作用**：在对象创建时初始化实例属性。\n",
    "- **语法**：`__init__(self, ...)`\n",
    "- **示例**：\n",
    "  ```python\n",
    "  class Person:\n",
    "      def __init__(self, name, age):\n",
    "          self.name = name\n",
    "          self.age = age\n",
    "  person = Person(\"Alice\", 30)  # 调用构造函数\n",
    "  ```\n",
    "\n",
    "---\n",
    "\n",
    "### 2. **析构函数（Destructor）**\n",
    "- **作用**：对象销毁前执行清理操作（如释放资源）。\n",
    "- **语法**：`__del__(self)`\n",
    "- **注意**：Python 依赖垃圾回收机制，通常不推荐手动使用。\n",
    "- **示例**：\n",
    "  ```python\n",
    "  class FileHandler:\n",
    "      def __del__(self):\n",
    "          print(\"关闭文件\")\n",
    "  ```\n",
    "\n",
    "---\n",
    "\n",
    "### 3. **实例方法（Instance Method）**\n",
    "- **作用**：操作实例属性或调用其他方法。\n",
    "- **语法**：`def method_name(self, ...)`\n",
    "- **示例**：\n",
    "  ```python\n",
    "  class Dog:\n",
    "      def bark(self):\n",
    "          print(\"Woof!\")\n",
    "  dog = Dog()\n",
    "  dog.bark()  # 输出 \"Woof!\"\n",
    "  ```\n",
    "\n",
    "---\n",
    "\n",
    "### 4. **类方法（Class Method）**\n",
    "- **作用**：操作类属性或创建类实例。\n",
    "- **语法**：`@classmethod` + `cls` 参数。\n",
    "- **示例**：\n",
    "  ```python\n",
    "  class MyClass:\n",
    "      count = 0\n",
    "      @classmethod\n",
    "      def increment_count(cls):\n",
    "          cls.count += 1\n",
    "  MyClass.increment_count()  # 类属性 count 变为 1\n",
    "  ```\n",
    "\n",
    "---\n",
    "\n",
    "### 5. **静态方法（Static Method）**\n",
    "- **作用**：与类逻辑相关，但不依赖实例或类状态。\n",
    "- **语法**：`@staticmethod`，无需 `self` 或 `cls`。\n",
    "- **示例**：\n",
    "  ```python\n",
    "  class MathUtils:\n",
    "      @staticmethod\n",
    "      def add(a, b):\n",
    "          return a + b\n",
    "  print(MathUtils.add(2, 3))  # 输出 5\n",
    "  ```\n",
    "\n",
    "---\n",
    "\n",
    "### 6. **特殊方法（Magic Methods）**\n",
    "- **作用**：重载运算符或内置函数行为。\n",
    "- **常见方法**：\n",
    "  - `__str__(self)`：定义 `print(obj)` 的输出。\n",
    "  - `__eq__(self, other)`：定义 `==` 比较逻辑。\n",
    "  - `__len__(self)`：定义 `len(obj)` 的结果。\n",
    "- **示例**：\n",
    "  ```python\n",
    "  class Book:\n",
    "      def __init__(self, title):\n",
    "          self.title = title\n",
    "      def __str__(self):\n",
    "          return f\"Book: {self.title}\"\n",
    "  book = Book(\"Python Guide\")\n",
    "  print(book)  # 输出 \"Book: Python Guide\"\n",
    "  ```\n",
    "\n",
    "---\n",
    "\n",
    "### 7. **属性方法（Property）**\n",
    "- **作用**：封装实例变量，提供 getter/setter 逻辑。\n",
    "- **语法**：`@property` 和 `@attr.setter`。\n",
    "- **示例**：\n",
    "  ```python\n",
    "  class Circle:\n",
    "      def __init__(self, radius):\n",
    "          self._radius = radius\n",
    "      @property\n",
    "      def radius(self):\n",
    "          return self._radius\n",
    "      @radius.setter\n",
    "      def radius(self, value):\n",
    "          if value < 0:\n",
    "              raise ValueError(\"半径不能为负\")\n",
    "          self._radius = value\n",
    "  ```\n",
    "\n",
    "---\n",
    "\n",
    "### 8. **抽象方法（Abstract Method）**\n",
    "- **作用**：强制子类实现特定方法（定义接口）。\n",
    "- **语法**：`@abstractmethod` + 继承 `ABC`。\n",
    "- **示例**：\n",
    "  ```python\n",
    "  from abc import ABC, abstractmethod\n",
    "  class Shape(ABC):\n",
    "      @abstractmethod\n",
    "      def area(self):\n",
    "          pass\n",
    "  class Circle(Shape):\n",
    "      def area(self):\n",
    "          return 3.14 * self.radius ** 2\n",
    "  ```\n",
    "\n",
    "---\n",
    "\n",
    "### 9. **私有方法（Private Method）**\n",
    "- **作用**：仅在类内部使用，外部无法访问。\n",
    "- **语法**：方法名前加双下划线 `__method()`。\n",
    "- **示例**：\n",
    "  ```python\n",
    "  class Database:\n",
    "      def __connect(self):\n",
    "          print(\"连接数据库\")\n",
    "      def query(self):\n",
    "          self.__connect()\n",
    "  ```\n",
    "\n",
    "---\n",
    "\n",
    "### 10. **协程方法（Coroutine）**\n",
    "- **作用**：支持异步编程，处理并发任务。\n",
    "- **语法**：`async def method(...)`。\n",
    "- **示例**：\n",
    "  ```python\n",
    "  class AsyncExample:\n",
    "      async def fetch_data(self):\n",
    "          await asyncio.sleep(1)\n",
    "          return \"数据加载完成\"\n",
    "  ```\n",
    "\n",
    "---\n",
    "\n",
    "### 总结表格\n",
    "| 方法类型       | 关键特点                              | 使用场景                     |\n",
    "|----------------|---------------------------------------|------------------------------|\n",
    "| 构造函数       | `__init__`，初始化对象               | 对象创建时设置属性           |\n",
    "| 实例方法       | 操作实例属性                          | 对象行为或状态变更           |\n",
    "| 类方法         | `@classmethod`，操作类属性            | 工厂模式或类级别操作         |\n",
    "| 静态方法       | `@staticmethod`，独立于类/实例        | 工具函数                     |\n",
    "| 特殊方法       | 重载运算符（如 `__str__`）            | 自定义对象的内置行为         |\n",
    "| 属性方法       | `@property`，封装数据验证             | 控制属性访问逻辑             |\n",
    "| 抽象方法       | `@abstractmethod`，定义接口           | 强制子类实现特定功能         |\n",
    "| 私有方法       | 双下划线前缀 `__method`               | 隐藏内部实现细节             |\n",
    "\n",
    "通过合理使用这些方法，可以设计出高内聚、低耦合的类结构，提升代码的可维护性和扩展性。"
   ]
  },
  {
   "cell_type": "markdown",
   "metadata": {},
   "source": [
    "### 46.isinstance 的作用和type的区别\n",
    "\n",
    "1. type() 的作用\n",
    "\n",
    "定义：返回对象的具体类型（即对象所属的类）。\n",
    "\n",
    "特点：严格匹配类型，不考虑继承关系。直接返回对象的类，不会检查父类。\n",
    "\n",
    "2. isinstance() 的作用\n",
    "\n",
    "定义：检查对象是否是某个类或其子类的实例。\n",
    "\n",
    "特点：支持继承关系，会检查整个类层次结构。可以同时检查多个类型（传入元组）"
   ]
  },
  {
   "cell_type": "code",
   "execution_count": 15,
   "metadata": {},
   "outputs": [
    {
     "name": "stdout",
     "output_type": "stream",
     "text": [
      "<class '__main__.Dog'>\n",
      "True\n",
      "False\n",
      "True\n",
      "True\n",
      "True\n"
     ]
    }
   ],
   "source": [
    "class Animal: pass\n",
    "class Dog(Animal): pass\n",
    "\n",
    "dog = Dog()\n",
    "print(type(dog))  # 输出 <class '__main__.Dog'>\n",
    "print(type(dog) is Dog)   # True\n",
    "print(type(dog) is Animal)  # False（不关心继承链）\n",
    "\n",
    "print(isinstance(dog, Dog))    # True\n",
    "print(isinstance(dog, Animal)) # True（识别父类）\n",
    "print(isinstance(dog, (str, Animal))) # True（支持多类型检查）"
   ]
  },
  {
   "cell_type": "markdown",
   "metadata": {},
   "source": [
    "### 47. 单例模式和工厂模式\n",
    "以下是 **单例模式** 和 **工厂模式** 的简明对比及示例：\n",
    "\n",
    "---\n",
    "\n",
    "### **单例模式（Singleton Pattern）**\n",
    "- **核心目的**：确保一个类**只有一个实例**，并提供全局访问点。\n",
    "- **实现方式**：\n",
    "  - 通过控制类的实例化过程（如重写 `__new__` 方法）。\n",
    "  - 使用装饰器、元类或模块特性实现。\n",
    "- **典型场景**：\n",
    "  - 数据库连接池、日志记录器、全局配置管理。\n",
    "- **Python 示例**：\n",
    "  ```python\n",
    "  class Singleton:\n",
    "      _instance = None\n",
    "      def __new__(cls):\n",
    "          if not cls._instance:\n",
    "              cls._instance = super().__new__(cls)\n",
    "          return cls._instance\n",
    "\n",
    "  obj1 = Singleton()\n",
    "  obj2 = Singleton()\n",
    "  print(obj1 is obj2)  # 输出 True（同一实例）\n",
    "  ```\n",
    "\n",
    "---\n",
    "\n",
    "### **工厂模式（Factory Pattern）**\n",
    "- **核心目的**：**封装对象创建过程**，让客户端代码与具体类解耦。\n",
    "- **分类**：\n",
    "  1. **简单工厂**：一个工厂类根据条件创建不同对象。\n",
    "  2. **工厂方法**：每个子类负责创建自己的对象（通过抽象方法）。\n",
    "  3. **抽象工厂**：创建一组相关或依赖的对象家族。\n",
    "- **典型场景**：\n",
    "  - 根据配置生成不同数据库连接（如 MySQL、PostgreSQL）。\n",
    "  - 动态创建 UI 组件（如不同操作系统的按钮、窗口）。\n",
    "- **Python 示例（简单工厂）**：\n",
    "  ```python\n",
    "  class Button:\n",
    "      def render(self): pass\n",
    "\n",
    "  class WindowsButton(Button):\n",
    "      def render(self): return \"Windows 风格按钮\"\n",
    "\n",
    "  class MacButton(Button):\n",
    "      def render(self): return \"Mac 风格按钮\"\n",
    "\n",
    "  class ButtonFactory:\n",
    "      def create_button(self, os_type):\n",
    "          if os_type == \"Windows\":\n",
    "              return WindowsButton()\n",
    "          elif os_type == \"Mac\":\n",
    "              return MacButton()\n",
    "          else:\n",
    "              raise ValueError(\"不支持的操作系统\")\n",
    "\n",
    "  factory = ButtonFactory()\n",
    "  button = factory.create_button(\"Windows\")\n",
    "  print(button.render())  # 输出 \"Windows 风格按钮\"\n",
    "  ```\n",
    "\n",
    "---\n",
    "\n",
    "### **关键区别**\n",
    "| **模式**     | **关注点**           | **解决的问题**               | **代码变化影响**           |\n",
    "|--------------|----------------------|------------------------------|--------------------------|\n",
    "| 单例模式     | 控制实例数量         | 避免重复创建，节省资源        | 修改单例逻辑影响全局      |\n",
    "| 工厂模式     | 封装对象创建过程     | 解耦客户端与具体类依赖关系    | 新增产品需扩展工厂类      |\n",
    "\n",
    "---\n",
    "\n",
    "### **实际应用结合**\n",
    "- **单例 + 工厂**：用单例模式管理全局唯一的工厂实例。\n",
    "  ```python\n",
    "  class DatabaseFactory:\n",
    "      _instance = None\n",
    "      def __new__(cls):\n",
    "          if not cls._instance:\n",
    "              cls._instance = super().__new__(cls)\n",
    "          return cls._instance\n",
    "      \n",
    "      def create_connection(self, db_type):\n",
    "          # 返回数据库连接对象\n",
    "          pass\n",
    "\n",
    "  factory = DatabaseFactory()  # 单例工厂\n",
    "  conn = factory.create_connection(\"MySQL\")\n",
    "  ```\n",
    "\n",
    "---\n",
    "\n",
    "### **如何选择？**\n",
    "- 用 **单例**：当系统中**必须只有一个实例**（如全局配置）。\n",
    "- 用 **工厂**：当需要**灵活扩展对象类型**，且希望隐藏创建细节（如多态对象生成）。"
   ]
  },
  {
   "cell_type": "markdown",
   "metadata": {},
   "source": [
    "### 48. 如何去除字符串的中间空格和尾部空格"
   ]
  },
  {
   "cell_type": "markdown",
   "metadata": {},
   "source": [
    "1. 去除尾部空格\n",
    "使用 rstrip() 方法可以删除字符串末尾的空格（包括空格、换行符等）："
   ]
  },
  {
   "cell_type": "code",
   "execution_count": 16,
   "metadata": {},
   "outputs": [
    {
     "name": "stdout",
     "output_type": "stream",
     "text": [
      "'Hello World'\n"
     ]
    }
   ],
   "source": [
    "text = \"Hello World   \\n\\t\"\n",
    "cleaned_text = text.rstrip()\n",
    "print(repr(cleaned_text))  # 输出 'Hello World'"
   ]
  },
  {
   "cell_type": "code",
   "execution_count": 18,
   "metadata": {},
   "outputs": [
    {
     "name": "stdout",
     "output_type": "stream",
     "text": [
      "HelloWorldPython\n"
     ]
    }
   ],
   "source": [
    "# 如果需要删除字符串中间的所有空格，可以使用 replace() 或正则表达式：\n",
    "text = \"Hello   World  Python\"\n",
    "cleaned_text = text.replace(\" \", \"\")\n",
    "print(cleaned_text)  # 输出 \"HelloWorldPython\""
   ]
  },
  {
   "cell_type": "code",
   "execution_count": 19,
   "metadata": {},
   "outputs": [
    {
     "name": "stdout",
     "output_type": "stream",
     "text": [
      "' Hello World Python'\n"
     ]
    }
   ],
   "source": [
    "import re\n",
    "text = \"   Hello   World  Python   \\t\"\n",
    "# 步骤 1：去除尾部空格\n",
    "text = text.rstrip()\n",
    "# 步骤 2：替换中间多个空格为单空格\n",
    "cleaned_text = re.sub(r\"\\s+\", \" \", text)\n",
    "print(repr(cleaned_text))  # 输出 'Hello World Python'"
   ]
  },
  {
   "cell_type": "markdown",
   "metadata": {},
   "source": [
    "### 49. 实现一个简单的API\n",
    "API（Application Programming Interface，应用程序编程接口） 是不同软件系统之间交互的桥梁。它定义了如何通过预定义的规则（如请求格式、参数、返回值等）访问某个服务或功能，而无需了解其内部实现细节。\n",
    "\n",
    "例如：\n",
    "\n",
    "你通过微信登录某个网站时，调用了微信的登录 API。\n",
    "\n",
    "天气应用通过第三方 API 获取实时天气数据。"
   ]
  },
  {
   "cell_type": "markdown",
   "metadata": {},
   "source": [
    "### 50.如何主动抛出异常\n"
   ]
  },
  {
   "cell_type": "code",
   "execution_count": 21,
   "metadata": {},
   "outputs": [
    {
     "name": "stdout",
     "output_type": "stream",
     "text": [
      "错误：年龄不能为负数\n"
     ]
    }
   ],
   "source": [
    "def validate_age(age):\n",
    "    if age < 0:\n",
    "        raise ValueError(\"年龄不能为负数\")\n",
    "    elif age < 18:\n",
    "        raise PermissionError(\"未成年人禁止访问\")\n",
    "    else:\n",
    "        print(\"验证通过\")\n",
    "\n",
    "try:\n",
    "    validate_age(-5)\n",
    "except ValueError as e:\n",
    "    print(f\"错误：{e}\")  # 输出：错误：年龄不能为负数"
   ]
  },
  {
   "cell_type": "markdown",
   "metadata": {},
   "source": [
    "### 51.如何比较两个json文件是否相等\n",
    "直接比较解析后的对象"
   ]
  },
  {
   "cell_type": "code",
   "execution_count": null,
   "metadata": {},
   "outputs": [],
   "source": [
    "import json\n",
    "\n",
    "def compare_json_files(file1, file2):\n",
    "    with open(file1, 'r') as f1, open(file2, 'r') as f2:\n",
    "        data1 = json.load(f1)  # 解析为字典或列表\n",
    "        data2 = json.load(f2)\n",
    "        return data1 == data2  # 深度比较内容\n",
    "\n",
    "print(compare_json_files(\"a.json\", \"b.json\"))  # True/False"
   ]
  },
  {
   "cell_type": "markdown",
   "metadata": {},
   "source": [
    "### 52.pass语句的作用\n",
    "\n",
    "pass 是 Python 中的 空操作占位符，用于语法需要但无需实际操作的场景。"
   ]
  },
  {
   "cell_type": "markdown",
   "metadata": {},
   "source": [
    "### 53.re.complie 的作用\n",
    "\n",
    "re.compile 用于 预编译正则表达式，生成一个正则表达式对象，提升重复使用时的效率。"
   ]
  },
  {
   "cell_type": "code",
   "execution_count": 25,
   "metadata": {},
   "outputs": [
    {
     "name": "stdout",
     "output_type": "stream",
     "text": [
      "['2023', '10']\n",
      "99\n"
     ]
    }
   ],
   "source": [
    "import re\n",
    "\n",
    "# 编译正则表达式\n",
    "pattern = re.compile(r'\\d+')  # 匹配数字\n",
    "\n",
    "# 复用编译后的对象\n",
    "result1 = pattern.findall(\"2023年10月\")\n",
    "result2 = pattern.search(\"价格是99元\")\n",
    "print(result1)  # ['2023', '10']\n",
    "print(result2.group())  # '99'"
   ]
  },
  {
   "cell_type": "markdown",
   "metadata": {},
   "source": [
    "### 54. try except else finally 的作用\n",
    "\n",
    "代码块\t      执行条件\n",
    "\n",
    "try\t        总是首先执行\n",
    "\n",
    "except\t    仅当发生匹配的异常时执行\n",
    "\n",
    "else\t    仅当无异常时执行\n",
    "\n",
    "finally\t    无论有无异常都执行"
   ]
  },
  {
   "cell_type": "code",
   "execution_count": 20,
   "metadata": {},
   "outputs": [
    {
     "name": "stdout",
     "output_type": "stream",
     "text": [
      "10 / 2 = 5.0\n",
      "-------- 清理结束 --------\n",
      "错误：除数不能为0！\n",
      "-------- 清理结束 --------\n",
      "错误：输入必须为数字！\n",
      "-------- 清理结束 --------\n"
     ]
    }
   ],
   "source": [
    "def divide(a, b):\n",
    "    try:\n",
    "        result = a / b\n",
    "    except ZeroDivisionError:\n",
    "        print(\"错误：除数不能为0！\")\n",
    "    except TypeError:\n",
    "        print(\"错误：输入必须为数字！\")\n",
    "    else:\n",
    "        print(f\"{a} / {b} = {result}\")\n",
    "        return result\n",
    "    finally:\n",
    "        print(\"-------- 清理结束 --------\")\n",
    "\n",
    "# 测试用例\n",
    "divide(10, 2)    # 正常执行\n",
    "divide(10, 0)    # 触发 ZeroDivisionError\n",
    "divide(\"10\", 2)  # 触发 TypeError"
   ]
  }
 ],
 "metadata": {
  "kernelspec": {
   "display_name": "python39",
   "language": "python",
   "name": "python3"
  },
  "language_info": {
   "codemirror_mode": {
    "name": "ipython",
    "version": 3
   },
   "file_extension": ".py",
   "mimetype": "text/x-python",
   "name": "python",
   "nbconvert_exporter": "python",
   "pygments_lexer": "ipython3",
   "version": "3.9.20"
  }
 },
 "nbformat": 4,
 "nbformat_minor": 2
}
