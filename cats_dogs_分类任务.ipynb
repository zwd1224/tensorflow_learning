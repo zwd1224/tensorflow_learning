{
 "cells": [
  {
   "cell_type": "markdown",
   "metadata": {},
   "source": [
    "- 数据预处理  - 使用ImageDataGenerator方法\n",
    "- 卷积网络模型 - conv2D\n",
    "- 过拟合问题 -数据增强 ： 图像数据增强方法和效果\n",
    "- 迁移学习 - 使用类似模型的参数进行训练"
   ]
  },
  {
   "cell_type": "code",
   "execution_count": 13,
   "metadata": {},
   "outputs": [],
   "source": [
    "import os\n",
    "\n",
    "# 数据所在文件夹\n",
    "base_dir = './data/cat_and_dog'\n",
    "train_dir = os.path.join(base_dir, 'train')\n",
    "validation_dir = os.path.join(base_dir, 'test')\n",
    "\n",
    "# 训练集\n",
    "train_cats_dir = os.path.join(train_dir, 'cat')\n",
    "train_dogs_dir = os.path.join(train_dir, 'dog')\n",
    "\n",
    "# 验证集\n",
    "validation_cats_dir = os.path.join(validation_dir, 'cat')\n",
    "validation_dogs_dir = os.path.join(validation_dir, 'dog')"
   ]
  },
  {
   "cell_type": "code",
   "execution_count": 4,
   "metadata": {},
   "outputs": [],
   "source": [
    "import tensorflow as tf\n",
    "import numpy as np\n",
    "import pandas as pd\n",
    "import matplotlib.pyplot as plt"
   ]
  },
  {
   "cell_type": "markdown",
   "metadata": {},
   "source": [
    "### `Conv2D` 参数总结表格  \n",
    "\n",
    "| 参数名 | 说明 | 常见取值 |\n",
    "|--------|------|---------|\n",
    "| `filters` | 过滤器（卷积核）数量，决定输出通道数 | `32`, `64`, `128` |\n",
    "| `kernel_size` | 卷积核大小，影响感受野 | `(3,3)`, `(5,5)` |\n",
    "| `strides` | 步长，控制卷积核滑动步幅 | `(1,1)`, `(2,2)` |\n",
    "| `padding` | 填充方式，决定输出大小 | `'valid'`（无填充）, `'same'`（保持尺寸） |\n",
    "| `activation` | 激活函数，增加非线性 | `'relu'`, `'sigmoid'`, `'tanh'` |\n",
    "| `input_shape` | 仅第一层需要指定输入尺寸 | `(height, width, channels)` |\n",
    "| `use_bias` | 是否使用偏置项 | `True`, `False` |\n",
    "| `kernel_initializer` | 权重初始化方法 | `'glorot_uniform'`, `'he_normal'` |\n",
    "| `kernel_regularizer` | 正则化，防止过拟合 | `l1(0.01)`, `l2(0.01)` |\n"
   ]
  },
  {
   "cell_type": "code",
   "execution_count": 5,
   "metadata": {},
   "outputs": [
    {
     "name": "stderr",
     "output_type": "stream",
     "text": [
      "d:\\Anaconda\\envs\\python39\\lib\\site-packages\\keras\\src\\layers\\convolutional\\base_conv.py:107: UserWarning: Do not pass an `input_shape`/`input_dim` argument to a layer. When using Sequential models, prefer using an `Input(shape)` object as the first layer in the model instead.\n",
      "  super().__init__(activity_regularizer=activity_regularizer, **kwargs)\n"
     ]
    }
   ],
   "source": [
    "model = tf.keras.models.Sequential([\n",
    "    tf.keras.layers.Conv2D(32,(3,3) ,activation='relu' , input_shape= (64,64,3)),\n",
    "    # （输入大小 - 卷积核大小） / 步长  +  1\n",
    "    tf.keras.layers.MaxPooling2D(2,2),\n",
    "    tf.keras.layers.Conv2D(64,(3,3) ,activation='relu' ),\n",
    "    tf.keras.layers.MaxPooling2D(2,2),\n",
    "    tf.keras.layers.Conv2D(128,(3,3) ,activation='relu' ),\n",
    "    tf.keras.layers.MaxPooling2D(2,2),\n",
    "    tf.keras.layers.Flatten(),\n",
    "    tf.keras.layers.Dense(512,activation = 'relu'),\n",
    "\n",
    "    tf.keras.layers.Dense(1, activation='sigmoid')\n",
    "])"
   ]
  },
  {
   "cell_type": "code",
   "execution_count": 6,
   "metadata": {},
   "outputs": [
    {
     "data": {
      "text/html": [
       "<pre style=\"white-space:pre;overflow-x:auto;line-height:normal;font-family:Menlo,'DejaVu Sans Mono',consolas,'Courier New',monospace\"><span style=\"font-weight: bold\">Model: \"sequential\"</span>\n",
       "</pre>\n"
      ],
      "text/plain": [
       "\u001b[1mModel: \"sequential\"\u001b[0m\n"
      ]
     },
     "metadata": {},
     "output_type": "display_data"
    },
    {
     "data": {
      "text/html": [
       "<pre style=\"white-space:pre;overflow-x:auto;line-height:normal;font-family:Menlo,'DejaVu Sans Mono',consolas,'Courier New',monospace\">┏━━━━━━━━━━━━━━━━━━━━━━━━━━━━━━━━━┳━━━━━━━━━━━━━━━━━━━━━━━━┳━━━━━━━━━━━━━━━┓\n",
       "┃<span style=\"font-weight: bold\"> Layer (type)                    </span>┃<span style=\"font-weight: bold\"> Output Shape           </span>┃<span style=\"font-weight: bold\">       Param # </span>┃\n",
       "┡━━━━━━━━━━━━━━━━━━━━━━━━━━━━━━━━━╇━━━━━━━━━━━━━━━━━━━━━━━━╇━━━━━━━━━━━━━━━┩\n",
       "│ conv2d (<span style=\"color: #0087ff; text-decoration-color: #0087ff\">Conv2D</span>)                 │ (<span style=\"color: #00d7ff; text-decoration-color: #00d7ff\">None</span>, <span style=\"color: #00af00; text-decoration-color: #00af00\">62</span>, <span style=\"color: #00af00; text-decoration-color: #00af00\">62</span>, <span style=\"color: #00af00; text-decoration-color: #00af00\">32</span>)     │           <span style=\"color: #00af00; text-decoration-color: #00af00\">896</span> │\n",
       "├─────────────────────────────────┼────────────────────────┼───────────────┤\n",
       "│ max_pooling2d (<span style=\"color: #0087ff; text-decoration-color: #0087ff\">MaxPooling2D</span>)    │ (<span style=\"color: #00d7ff; text-decoration-color: #00d7ff\">None</span>, <span style=\"color: #00af00; text-decoration-color: #00af00\">31</span>, <span style=\"color: #00af00; text-decoration-color: #00af00\">31</span>, <span style=\"color: #00af00; text-decoration-color: #00af00\">32</span>)     │             <span style=\"color: #00af00; text-decoration-color: #00af00\">0</span> │\n",
       "├─────────────────────────────────┼────────────────────────┼───────────────┤\n",
       "│ conv2d_1 (<span style=\"color: #0087ff; text-decoration-color: #0087ff\">Conv2D</span>)               │ (<span style=\"color: #00d7ff; text-decoration-color: #00d7ff\">None</span>, <span style=\"color: #00af00; text-decoration-color: #00af00\">29</span>, <span style=\"color: #00af00; text-decoration-color: #00af00\">29</span>, <span style=\"color: #00af00; text-decoration-color: #00af00\">64</span>)     │        <span style=\"color: #00af00; text-decoration-color: #00af00\">18,496</span> │\n",
       "├─────────────────────────────────┼────────────────────────┼───────────────┤\n",
       "│ max_pooling2d_1 (<span style=\"color: #0087ff; text-decoration-color: #0087ff\">MaxPooling2D</span>)  │ (<span style=\"color: #00d7ff; text-decoration-color: #00d7ff\">None</span>, <span style=\"color: #00af00; text-decoration-color: #00af00\">14</span>, <span style=\"color: #00af00; text-decoration-color: #00af00\">14</span>, <span style=\"color: #00af00; text-decoration-color: #00af00\">64</span>)     │             <span style=\"color: #00af00; text-decoration-color: #00af00\">0</span> │\n",
       "├─────────────────────────────────┼────────────────────────┼───────────────┤\n",
       "│ conv2d_2 (<span style=\"color: #0087ff; text-decoration-color: #0087ff\">Conv2D</span>)               │ (<span style=\"color: #00d7ff; text-decoration-color: #00d7ff\">None</span>, <span style=\"color: #00af00; text-decoration-color: #00af00\">12</span>, <span style=\"color: #00af00; text-decoration-color: #00af00\">12</span>, <span style=\"color: #00af00; text-decoration-color: #00af00\">128</span>)    │        <span style=\"color: #00af00; text-decoration-color: #00af00\">73,856</span> │\n",
       "├─────────────────────────────────┼────────────────────────┼───────────────┤\n",
       "│ max_pooling2d_2 (<span style=\"color: #0087ff; text-decoration-color: #0087ff\">MaxPooling2D</span>)  │ (<span style=\"color: #00d7ff; text-decoration-color: #00d7ff\">None</span>, <span style=\"color: #00af00; text-decoration-color: #00af00\">6</span>, <span style=\"color: #00af00; text-decoration-color: #00af00\">6</span>, <span style=\"color: #00af00; text-decoration-color: #00af00\">128</span>)      │             <span style=\"color: #00af00; text-decoration-color: #00af00\">0</span> │\n",
       "├─────────────────────────────────┼────────────────────────┼───────────────┤\n",
       "│ flatten (<span style=\"color: #0087ff; text-decoration-color: #0087ff\">Flatten</span>)               │ (<span style=\"color: #00d7ff; text-decoration-color: #00d7ff\">None</span>, <span style=\"color: #00af00; text-decoration-color: #00af00\">4608</span>)           │             <span style=\"color: #00af00; text-decoration-color: #00af00\">0</span> │\n",
       "├─────────────────────────────────┼────────────────────────┼───────────────┤\n",
       "│ dense (<span style=\"color: #0087ff; text-decoration-color: #0087ff\">Dense</span>)                   │ (<span style=\"color: #00d7ff; text-decoration-color: #00d7ff\">None</span>, <span style=\"color: #00af00; text-decoration-color: #00af00\">512</span>)            │     <span style=\"color: #00af00; text-decoration-color: #00af00\">2,359,808</span> │\n",
       "├─────────────────────────────────┼────────────────────────┼───────────────┤\n",
       "│ dense_1 (<span style=\"color: #0087ff; text-decoration-color: #0087ff\">Dense</span>)                 │ (<span style=\"color: #00d7ff; text-decoration-color: #00d7ff\">None</span>, <span style=\"color: #00af00; text-decoration-color: #00af00\">1</span>)              │           <span style=\"color: #00af00; text-decoration-color: #00af00\">513</span> │\n",
       "└─────────────────────────────────┴────────────────────────┴───────────────┘\n",
       "</pre>\n"
      ],
      "text/plain": [
       "┏━━━━━━━━━━━━━━━━━━━━━━━━━━━━━━━━━┳━━━━━━━━━━━━━━━━━━━━━━━━┳━━━━━━━━━━━━━━━┓\n",
       "┃\u001b[1m \u001b[0m\u001b[1mLayer (type)                   \u001b[0m\u001b[1m \u001b[0m┃\u001b[1m \u001b[0m\u001b[1mOutput Shape          \u001b[0m\u001b[1m \u001b[0m┃\u001b[1m \u001b[0m\u001b[1m      Param #\u001b[0m\u001b[1m \u001b[0m┃\n",
       "┡━━━━━━━━━━━━━━━━━━━━━━━━━━━━━━━━━╇━━━━━━━━━━━━━━━━━━━━━━━━╇━━━━━━━━━━━━━━━┩\n",
       "│ conv2d (\u001b[38;5;33mConv2D\u001b[0m)                 │ (\u001b[38;5;45mNone\u001b[0m, \u001b[38;5;34m62\u001b[0m, \u001b[38;5;34m62\u001b[0m, \u001b[38;5;34m32\u001b[0m)     │           \u001b[38;5;34m896\u001b[0m │\n",
       "├─────────────────────────────────┼────────────────────────┼───────────────┤\n",
       "│ max_pooling2d (\u001b[38;5;33mMaxPooling2D\u001b[0m)    │ (\u001b[38;5;45mNone\u001b[0m, \u001b[38;5;34m31\u001b[0m, \u001b[38;5;34m31\u001b[0m, \u001b[38;5;34m32\u001b[0m)     │             \u001b[38;5;34m0\u001b[0m │\n",
       "├─────────────────────────────────┼────────────────────────┼───────────────┤\n",
       "│ conv2d_1 (\u001b[38;5;33mConv2D\u001b[0m)               │ (\u001b[38;5;45mNone\u001b[0m, \u001b[38;5;34m29\u001b[0m, \u001b[38;5;34m29\u001b[0m, \u001b[38;5;34m64\u001b[0m)     │        \u001b[38;5;34m18,496\u001b[0m │\n",
       "├─────────────────────────────────┼────────────────────────┼───────────────┤\n",
       "│ max_pooling2d_1 (\u001b[38;5;33mMaxPooling2D\u001b[0m)  │ (\u001b[38;5;45mNone\u001b[0m, \u001b[38;5;34m14\u001b[0m, \u001b[38;5;34m14\u001b[0m, \u001b[38;5;34m64\u001b[0m)     │             \u001b[38;5;34m0\u001b[0m │\n",
       "├─────────────────────────────────┼────────────────────────┼───────────────┤\n",
       "│ conv2d_2 (\u001b[38;5;33mConv2D\u001b[0m)               │ (\u001b[38;5;45mNone\u001b[0m, \u001b[38;5;34m12\u001b[0m, \u001b[38;5;34m12\u001b[0m, \u001b[38;5;34m128\u001b[0m)    │        \u001b[38;5;34m73,856\u001b[0m │\n",
       "├─────────────────────────────────┼────────────────────────┼───────────────┤\n",
       "│ max_pooling2d_2 (\u001b[38;5;33mMaxPooling2D\u001b[0m)  │ (\u001b[38;5;45mNone\u001b[0m, \u001b[38;5;34m6\u001b[0m, \u001b[38;5;34m6\u001b[0m, \u001b[38;5;34m128\u001b[0m)      │             \u001b[38;5;34m0\u001b[0m │\n",
       "├─────────────────────────────────┼────────────────────────┼───────────────┤\n",
       "│ flatten (\u001b[38;5;33mFlatten\u001b[0m)               │ (\u001b[38;5;45mNone\u001b[0m, \u001b[38;5;34m4608\u001b[0m)           │             \u001b[38;5;34m0\u001b[0m │\n",
       "├─────────────────────────────────┼────────────────────────┼───────────────┤\n",
       "│ dense (\u001b[38;5;33mDense\u001b[0m)                   │ (\u001b[38;5;45mNone\u001b[0m, \u001b[38;5;34m512\u001b[0m)            │     \u001b[38;5;34m2,359,808\u001b[0m │\n",
       "├─────────────────────────────────┼────────────────────────┼───────────────┤\n",
       "│ dense_1 (\u001b[38;5;33mDense\u001b[0m)                 │ (\u001b[38;5;45mNone\u001b[0m, \u001b[38;5;34m1\u001b[0m)              │           \u001b[38;5;34m513\u001b[0m │\n",
       "└─────────────────────────────────┴────────────────────────┴───────────────┘\n"
      ]
     },
     "metadata": {},
     "output_type": "display_data"
    },
    {
     "data": {
      "text/html": [
       "<pre style=\"white-space:pre;overflow-x:auto;line-height:normal;font-family:Menlo,'DejaVu Sans Mono',consolas,'Courier New',monospace\"><span style=\"font-weight: bold\"> Total params: </span><span style=\"color: #00af00; text-decoration-color: #00af00\">2,453,569</span> (9.36 MB)\n",
       "</pre>\n"
      ],
      "text/plain": [
       "\u001b[1m Total params: \u001b[0m\u001b[38;5;34m2,453,569\u001b[0m (9.36 MB)\n"
      ]
     },
     "metadata": {},
     "output_type": "display_data"
    },
    {
     "data": {
      "text/html": [
       "<pre style=\"white-space:pre;overflow-x:auto;line-height:normal;font-family:Menlo,'DejaVu Sans Mono',consolas,'Courier New',monospace\"><span style=\"font-weight: bold\"> Trainable params: </span><span style=\"color: #00af00; text-decoration-color: #00af00\">2,453,569</span> (9.36 MB)\n",
       "</pre>\n"
      ],
      "text/plain": [
       "\u001b[1m Trainable params: \u001b[0m\u001b[38;5;34m2,453,569\u001b[0m (9.36 MB)\n"
      ]
     },
     "metadata": {},
     "output_type": "display_data"
    },
    {
     "data": {
      "text/html": [
       "<pre style=\"white-space:pre;overflow-x:auto;line-height:normal;font-family:Menlo,'DejaVu Sans Mono',consolas,'Courier New',monospace\"><span style=\"font-weight: bold\"> Non-trainable params: </span><span style=\"color: #00af00; text-decoration-color: #00af00\">0</span> (0.00 B)\n",
       "</pre>\n"
      ],
      "text/plain": [
       "\u001b[1m Non-trainable params: \u001b[0m\u001b[38;5;34m0\u001b[0m (0.00 B)\n"
      ]
     },
     "metadata": {},
     "output_type": "display_data"
    }
   ],
   "source": [
    "model.summary()"
   ]
  },
  {
   "cell_type": "code",
   "execution_count": 7,
   "metadata": {},
   "outputs": [],
   "source": [
    "model.compile(\n",
    "    optimizer = tf.keras.optimizers.Adam(1e-4),\n",
    "    loss = 'binary_crossentropy',\n",
    "    metrics=['acc']\n",
    ")"
   ]
  },
  {
   "cell_type": "markdown",
   "metadata": {},
   "source": [
    "###  ImageDataGenerator\n",
    "以下是 `flow_from_directory` 的功能及用法的详细说明：\n",
    "\n",
    "**功能**\n",
    "`flow_from_directory` 是 Keras 中 `ImageDataGenerator` 类的方法，**用于从按类别分组的目录结构中批量加载图像数据**。主要功能包括：\n",
    "1. **自动分配标签**：根据子目录名称（如 `cats`、`dogs`）自动为图像生成标签。\n",
    "2. **支持数据增强**：可结合 `ImageDataGenerator` 的预处理功能（如旋转、缩放、翻转等）实时增强数据。\n",
    "3. **内存高效**：逐批次加载图像，避免一次性加载全部数据到内存中。\n",
    "4. **兼容模型训练**：直接生成与 Keras 模型兼容的 `(x, y)` 数据流。\n",
    "\n",
    "\n",
    "\n",
    " **核心参数**\n",
    "| 参数 | 作用 | 常用值示例 |\n",
    "|------|------|------------|\n",
    "| `directory` | 数据根目录路径（需包含子文件夹） | `./data/train` |\n",
    "| `target_size` | 调整图像尺寸 | `(150, 150)` |\n",
    "| `batch_size` | 每批次的样本数 | `32` |\n",
    "| `class_mode` | 标签类型 | `\"binary\"`（二分类）、`\"categorical\"`（多分类） |\n",
    "| `color_mode` | 图像颜色模式 | `\"rgb\"`（彩色）、`\"grayscale\"`（灰度） |\n",
    "| `shuffle` | 是否打乱数据顺序 | `True`（训练集）、`False`（验证集） |\n",
    "| `seed` | 随机种子（保证可重复性） | `42` |\n",
    "| `subset` | 数据子集（需结合 `validation_split`） | `\"training\"`、`\"validation\"` |\n",
    "\n",
    " **使用示例**\n",
    "```python\n",
    "  from tensorflow.keras.preprocessing.image import ImageDataGenerator\n",
    "\n",
    "  # 创建数据生成器（可选数据增强）\n",
    "  train_datagen = ImageDataGenerator(\n",
    "      rescale=1./255,          # 归一化像素值\n",
    "      rotation_range=20,       # 随机旋转角度\n",
    "      horizontal_flip=True     # 随机水平翻转\n",
    "  )\n",
    "\n",
    "  # 从目录加载训练数据\n",
    "  train_generator = train_datagen.flow_from_directory(\n",
    "      directory=\"./data/train\",      # 训练集根目录\n",
    "      target_size=(150, 150),       # 调整图像尺寸\n",
    "      batch_size=32,\n",
    "      class_mode=\"binary\",           # 二分类任务（标签为 0/1）\n",
    "      shuffle=True,                 # 打乱顺序\n",
    "      seed=42\n",
    "  )\n",
    "\n",
    "  # 验证集生成器（通常无需增强）\n",
    "  val_datagen = ImageDataGenerator(rescale=1./255)\n",
    "  val_generator = val_datagen.flow_from_directory(\n",
    "      directory=\"./data/validation\",\n",
    "      target_size=(150, 150),\n",
    "      batch_size=32,\n",
    "      class_mode=\"binary\",\n",
    "      shuffle=False  # 验证集通常不洗牌\n",
    "  )\n",
    "```\n",
    "\n",
    "\n",
    " **输出示例**\n",
    "运行后会输出数据统计信息：\n",
    "```\n",
    "Found 2000 images belonging to 2 classes.  # 训练集\n",
    "Found 800 images belonging to 2 classes.   # 验证集\n",
    "```\n",
    "\n",
    "\n",
    "\n",
    " **关键注意事项**\n",
    "1. **目录结构要求**  \n",
    "   目录必须按类别分文件夹存放，例如：\n",
    "```\n",
    "   data/\n",
    "     train/\n",
    "       cats/       # 类别1\n",
    "         cat1.jpg\n",
    "         cat2.jpg\n",
    "       dogs/       # 类别2\n",
    "         dog1.jpg\n",
    "         dog2.jpg\n",
    "     validation/   # 验证集结构同上\n",
    "```\n",
    "\n",
    "2. **标签分配规则**  \n",
    "   标签按子文件夹的字母顺序分配。例如：  \n",
    "   - `cats` → 标签 `0`  \n",
    "   - `dogs` → 标签 `1`  \n",
    "   可通过 `class_indices` 属性查看映射关系：  \n",
    "   ```python\n",
    "   print(train_generator.class_indices)  # 输出: {'cats': 0, 'dogs': 1}\n",
    "   ```\n",
    "\n",
    "3. **数据增强配置**  \n",
    "   - 训练集通常需要增强（如旋转、翻转），验证集只需归一化。\n",
    "   - 使用 `save_to_dir` 参数可保存增强后的图像（用于调试）。\n",
    "\n",
    "\n",
    " **优势**\n",
    "- **自动化管理**：无需手动编写标签文件。\n",
    "- **灵活性**：支持动态数据增强和实时预处理。\n",
    "- **内存友好**：适合处理大规模图像数据集。"
   ]
  },
  {
   "cell_type": "code",
   "execution_count": null,
   "metadata": {},
   "outputs": [],
   "source": [
    "from tensorflow.keras.preprocessing.image import ImageDataGenerator\n",
    "# rescale = 1. /255 图像归一化\n",
    "train_datagen = ImageDataGenerator(rescale = 1. /255)\n",
    "test_datagen = ImageDataGenerator(rescale = 1. /255)"
   ]
  },
  {
   "cell_type": "code",
   "execution_count": 14,
   "metadata": {},
   "outputs": [
    {
     "name": "stdout",
     "output_type": "stream",
     "text": [
      "Found 2000 images belonging to 2 classes.\n",
      "Found 1000 images belonging to 2 classes.\n"
     ]
    }
   ],
   "source": [
    "\n",
    "train_generator = train_datagen.flow_from_directory(\n",
    "    train_dir, # 文件路径\n",
    "    target_size =(64,64),\n",
    "    batch_size =20,\n",
    "    class_mode = 'binary',\n",
    ")\n",
    "\n",
    "val_generator = test_datagen.flow_from_directory(\n",
    "    validation_dir, # 文件路径\n",
    "    target_size =(64,64),\n",
    "    batch_size =20,\n",
    "    class_mode = 'binary',\n",
    ")"
   ]
  },
  {
   "cell_type": "markdown",
   "metadata": {},
   "source": [
    "**1. `fit()` 适用于小数据集**\n",
    "- 适合**可以完全载入内存**的数据集，比如 `numpy` 数组格式的数据。\n",
    "- 直接传入 `X_train` 和 `y_train` 训练数据。\n",
    "\n",
    "**示例：**\n",
    "```python\n",
    "model.fit(X_train, y_train, epochs=10, batch_size=32, validation_data=(X_val, y_val))\n",
    "```\n",
    " **缺点**：当数据集太大，无法一次性加载到内存时，会导致**内存溢出**。\n",
    "\n",
    "\n",
    "**2. `fit_generator()` 适用于大数据集**\n",
    "- 通过 `ImageDataGenerator` 或其他 `Python Generator` **逐批**加载数据，避免一次性占用大量内存。\n",
    "- 适合处理**大量图像、视频或文本数据**。\n",
    "\n",
    "**示例：**\n",
    "```python\n",
    "train_datagen = ImageDataGenerator(rescale=1./255)\n",
    "train_generator = train_datagen.flow_from_directory(\n",
    "    'dataset/train',\n",
    "    target_size=(64, 64),\n",
    "    batch_size=32,\n",
    "    class_mode='binary'\n",
    ")\n",
    "\n",
    "model.fit_generator(train_generator, epochs=10, steps_per_epoch=100)\n",
    "```\n",
    " **注意**：  \n",
    "- `steps_per_epoch=100` 表示每个 epoch 训练 **100 批次**，每批次 `32` 张图片（`batch_size=32`）。\n",
    "- **Keras 2.1.0 之后**，`fit_generator()` 的功能**已整合到 `fit()`**，现在可以直接使用 `fit()` 代替。\n",
    "\n",
    "`fit_generator()` **已被弃用**，官方建议**使用 `fit()`** 直接传入 `generator`：\n",
    "```python\n",
    "model.fit(train_generator, epochs=10, steps_per_epoch=100)\n",
    "```\n",
    "它会**自动识别** `train_generator` 是生成器，并按需加载数据，等效于 `fit_generator()`。\n",
    "\n",
    "---\n",
    "\n"
   ]
  },
  {
   "cell_type": "code",
   "execution_count": 15,
   "metadata": {},
   "outputs": [
    {
     "name": "stdout",
     "output_type": "stream",
     "text": [
      "Epoch 1/10\n",
      "100/100 - 13s - 125ms/step - acc: 0.5325 - loss: 0.6895 - val_acc: 0.6190 - val_loss: 0.6740\n",
      "Epoch 2/10\n",
      "100/100 - 12s - 124ms/step - acc: 0.6200 - loss: 0.6557 - val_acc: 0.6000 - val_loss: 0.6527\n",
      "Epoch 3/10\n",
      "100/100 - 11s - 107ms/step - acc: 0.6880 - loss: 0.6094 - val_acc: 0.6150 - val_loss: 0.6449\n",
      "Epoch 4/10\n",
      "100/100 - 10s - 98ms/step - acc: 0.7000 - loss: 0.5793 - val_acc: 0.6150 - val_loss: 0.6509\n",
      "Epoch 5/10\n",
      "100/100 - 9s - 94ms/step - acc: 0.7335 - loss: 0.5367 - val_acc: 0.6950 - val_loss: 0.5725\n",
      "Epoch 6/10\n",
      "100/100 - 11s - 108ms/step - acc: 0.7560 - loss: 0.5103 - val_acc: 0.6920 - val_loss: 0.5614\n",
      "Epoch 7/10\n",
      "100/100 - 10s - 103ms/step - acc: 0.7695 - loss: 0.4827 - val_acc: 0.7130 - val_loss: 0.5560\n",
      "Epoch 8/10\n",
      "100/100 - 11s - 106ms/step - acc: 0.7760 - loss: 0.4580 - val_acc: 0.7200 - val_loss: 0.5464\n",
      "Epoch 9/10\n",
      "100/100 - 10s - 104ms/step - acc: 0.8045 - loss: 0.4447 - val_acc: 0.7200 - val_loss: 0.5478\n",
      "Epoch 10/10\n",
      "100/100 - 12s - 125ms/step - acc: 0.8245 - loss: 0.4079 - val_acc: 0.7190 - val_loss: 0.5465\n"
     ]
    }
   ],
   "source": [
    "import warnings\n",
    "warnings.filterwarnings('ignore')\n",
    "history = model.fit(train_generator , steps_per_epoch= 100 , epochs= 10, validation_data=val_generator,\n",
    "                    validation_steps = 50 , verbose = 2)"
   ]
  },
  {
   "cell_type": "markdown",
   "metadata": {},
   "source": [
    "### 结果展示\n"
   ]
  },
  {
   "cell_type": "code",
   "execution_count": 16,
   "metadata": {},
   "outputs": [
    {
     "data": {
      "image/png": "[encoded data removed]",
      "text/plain": [
       "<Figure size 640x480 with 1 Axes>"
      ]
     },
     "metadata": {},
     "output_type": "display_data"
    },
    {
     "data": {
      "image/png": "[encoded data removed]",
      "text/plain": [
       "<Figure size 640x480 with 1 Axes>"
      ]
     },
     "metadata": {},
     "output_type": "display_data"
    }
   ],
   "source": [
    "import matplotlib.pyplot as plt\n",
    "\n",
    "acc = history.history['acc']\n",
    "val_acc = history.history['val_acc']\n",
    "loss = history.history['loss']\n",
    "val_loss = history.history['val_loss']\n",
    "epochs = range(len(acc))\n",
    "plt.figure()\n",
    "\n",
    "plt.plot(epochs, acc, 'bo', label='Training accuracy')\n",
    "plt.plot(epochs, val_acc, 'b', label='Validation accuracy')\n",
    "plt.title('Training and validation accuracy')\n",
    "plt.legend()\n",
    "\n",
    "plt.figure()\n",
    "plt.plot(epochs, loss, 'bo', label='Training Loss')\n",
    "plt.plot(epochs, val_loss, 'b', label='Validation Loss')\n",
    "plt.title('Training and validation loss')\n",
    "plt.legend()\n",
    "\n",
    "plt.show()"
   ]
  },
  {
   "cell_type": "markdown",
   "metadata": {},
   "source": [
    "### 过拟合处理\n",
    "- 增加样本数量\n",
    "- 变换样本格式， 平移反转\n",
    "- 正则化\n",
    "- dorp-out"
   ]
  },
  {
   "cell_type": "code",
   "execution_count": null,
   "metadata": {},
   "outputs": [],
   "source": [
    "train_datagen = ImageDataGenerator(\n",
    "    rescale = 1. /255,\n",
    "    rotation_range = 40,\n",
    "    width_shift_range =0.2,\n",
    "    height_shift_range =0.2,\n",
    "    zoom_range = 0.2,\n",
    "    horizontal_flip = True,\n",
    "    fill_mode = 'nearest'\n",
    "    )"
   ]
  },
  {
   "cell_type": "code",
   "execution_count": null,
   "metadata": {},
   "outputs": [],
   "source": []
  },
  {
   "cell_type": "code",
   "execution_count": null,
   "metadata": {},
   "outputs": [],
   "source": []
  },
  {
   "cell_type": "code",
   "execution_count": null,
   "metadata": {},
   "outputs": [],
   "source": []
  }
 ],
 "metadata": {
  "kernelspec": {
   "display_name": "python39",
   "language": "python",
   "name": "python3"
  },
  "language_info": {
   "codemirror_mode": {
    "name": "ipython",
    "version": 3
   },
   "file_extension": ".py",
   "mimetype": "text/x-python",
   "name": "python",
   "nbconvert_exporter": "python",
   "pygments_lexer": "ipython3",
   "version": "3.9.20"
  }
 },
 "nbformat": 4,
 "nbformat_minor": 2
}
